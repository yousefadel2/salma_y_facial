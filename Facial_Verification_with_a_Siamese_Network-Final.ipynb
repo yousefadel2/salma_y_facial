{
 "cells": [
  {
   "cell_type": "markdown",
   "metadata": {},
   "source": [
    "# 1. Setup"
   ]
  },
  {
   "cell_type": "markdown",
   "metadata": {},
   "source": [
    "## 1.1 Install Dependencies"
   ]
  },
  {
   "cell_type": "code",
   "execution_count": 1,
   "metadata": {},
   "outputs": [
    {
     "name": "stdout",
     "output_type": "stream",
     "text": [
      "Requirement already satisfied: tensorflow==2.4.1 in c:\\users\\freecomp\\anaconda3\\lib\\site-packages (2.4.1)\n",
      "Requirement already satisfied: tensorflow-gpu==2.4.1 in c:\\users\\freecomp\\anaconda3\\lib\\site-packages (2.4.1)\n",
      "Requirement already satisfied: opencv-python in c:\\users\\freecomp\\anaconda3\\lib\\site-packages (4.6.0.66)\n",
      "Requirement already satisfied: matplotlib in c:\\users\\freecomp\\anaconda3\\lib\\site-packages (3.5.2)\n",
      "Requirement already satisfied: termcolor~=1.1.0 in c:\\users\\freecomp\\anaconda3\\lib\\site-packages (from tensorflow==2.4.1) (1.1.0)\n",
      "Requirement already satisfied: google-pasta~=0.2 in c:\\users\\freecomp\\anaconda3\\lib\\site-packages (from tensorflow==2.4.1) (0.2.0)\n",
      "Requirement already satisfied: protobuf>=3.9.2 in c:\\users\\freecomp\\anaconda3\\lib\\site-packages (from tensorflow==2.4.1) (3.19.6)\n",
      "Collecting flatbuffers~=1.12.0\n",
      "  Using cached flatbuffers-1.12-py2.py3-none-any.whl (15 kB)\n",
      "Requirement already satisfied: wheel~=0.35 in c:\\users\\freecomp\\anaconda3\\lib\\site-packages (from tensorflow==2.4.1) (0.38.4)\n",
      "Requirement already satisfied: tensorboard~=2.4 in c:\\users\\freecomp\\anaconda3\\lib\\site-packages (from tensorflow==2.4.1) (2.10.1)\n",
      "Requirement already satisfied: h5py~=2.10.0 in c:\\users\\freecomp\\anaconda3\\lib\\site-packages (from tensorflow==2.4.1) (2.10.0)\n",
      "Requirement already satisfied: gast==0.3.3 in c:\\users\\freecomp\\anaconda3\\lib\\site-packages (from tensorflow==2.4.1) (0.3.3)\n",
      "Requirement already satisfied: opt-einsum~=3.3.0 in c:\\users\\freecomp\\anaconda3\\lib\\site-packages (from tensorflow==2.4.1) (3.3.0)\n",
      "Requirement already satisfied: wrapt~=1.12.1 in c:\\users\\freecomp\\anaconda3\\lib\\site-packages (from tensorflow==2.4.1) (1.12.1)\n",
      "Collecting typing-extensions~=3.7.4\n",
      "  Using cached typing_extensions-3.7.4.3-py3-none-any.whl (22 kB)\n",
      "Collecting grpcio~=1.32.0\n",
      "  Using cached grpcio-1.32.0-cp37-cp37m-win_amd64.whl (2.5 MB)\n",
      "Requirement already satisfied: keras-preprocessing~=1.1.2 in c:\\users\\freecomp\\anaconda3\\lib\\site-packages (from tensorflow==2.4.1) (1.1.2)\n",
      "Collecting numpy~=1.19.2\n",
      "  Using cached numpy-1.19.5-cp37-cp37m-win_amd64.whl (13.2 MB)\n",
      "Requirement already satisfied: absl-py~=0.10 in c:\\users\\freecomp\\anaconda3\\lib\\site-packages (from tensorflow==2.4.1) (0.15.0)\n",
      "Requirement already satisfied: astunparse~=1.6.3 in c:\\users\\freecomp\\anaconda3\\lib\\site-packages (from tensorflow==2.4.1) (1.6.3)\n",
      "Requirement already satisfied: six~=1.15.0 in c:\\users\\freecomp\\anaconda3\\lib\\site-packages (from tensorflow==2.4.1) (1.15.0)\n",
      "Requirement already satisfied: tensorflow-estimator<2.5.0,>=2.4.0 in c:\\users\\freecomp\\anaconda3\\lib\\site-packages (from tensorflow==2.4.1) (2.4.0)\n",
      "Requirement already satisfied: cycler>=0.10 in c:\\users\\freecomp\\anaconda3\\lib\\site-packages (from matplotlib) (0.11.0)\n",
      "Requirement already satisfied: packaging>=20.0 in c:\\users\\freecomp\\anaconda3\\lib\\site-packages (from matplotlib) (21.3)\n",
      "Requirement already satisfied: kiwisolver>=1.0.1 in c:\\users\\freecomp\\anaconda3\\lib\\site-packages (from matplotlib) (1.4.2)\n",
      "Requirement already satisfied: pillow>=6.2.0 in c:\\users\\freecomp\\anaconda3\\lib\\site-packages (from matplotlib) (9.2.0)\n",
      "Requirement already satisfied: pyparsing>=2.2.1 in c:\\users\\freecomp\\anaconda3\\lib\\site-packages (from matplotlib) (3.0.9)\n",
      "Requirement already satisfied: fonttools>=4.22.0 in c:\\users\\freecomp\\anaconda3\\lib\\site-packages (from matplotlib) (4.25.0)\n",
      "Requirement already satisfied: python-dateutil>=2.7 in c:\\users\\freecomp\\anaconda3\\lib\\site-packages (from matplotlib) (2.8.2)\n",
      "Requirement already satisfied: tensorboard-plugin-wit>=1.6.0 in c:\\users\\freecomp\\anaconda3\\lib\\site-packages (from tensorboard~=2.4->tensorflow==2.4.1) (1.8.1)\n",
      "Requirement already satisfied: google-auth-oauthlib<0.5,>=0.4.1 in c:\\users\\freecomp\\anaconda3\\lib\\site-packages (from tensorboard~=2.4->tensorflow==2.4.1) (0.4.6)\n",
      "Requirement already satisfied: setuptools>=41.0.0 in c:\\users\\freecomp\\anaconda3\\lib\\site-packages (from tensorboard~=2.4->tensorflow==2.4.1) (65.5.0)\n",
      "Requirement already satisfied: markdown>=2.6.8 in c:\\users\\freecomp\\anaconda3\\lib\\site-packages (from tensorboard~=2.4->tensorflow==2.4.1) (3.3.4)\n",
      "Requirement already satisfied: tensorboard-data-server<0.7.0,>=0.6.0 in c:\\users\\freecomp\\anaconda3\\lib\\site-packages (from tensorboard~=2.4->tensorflow==2.4.1) (0.6.1)\n",
      "Requirement already satisfied: werkzeug>=1.0.1 in c:\\users\\freecomp\\anaconda3\\lib\\site-packages (from tensorboard~=2.4->tensorflow==2.4.1) (2.2.3)\n",
      "Requirement already satisfied: requests<3,>=2.21.0 in c:\\users\\freecomp\\anaconda3\\lib\\site-packages (from tensorboard~=2.4->tensorflow==2.4.1) (2.27.1)\n",
      "Requirement already satisfied: google-auth<3,>=1.6.3 in c:\\users\\freecomp\\anaconda3\\lib\\site-packages (from tensorboard~=2.4->tensorflow==2.4.1) (1.33.0)\n",
      "Requirement already satisfied: rsa<5,>=3.1.4 in c:\\users\\freecomp\\anaconda3\\lib\\site-packages (from google-auth<3,>=1.6.3->tensorboard~=2.4->tensorflow==2.4.1) (4.7.2)\n",
      "Requirement already satisfied: pyasn1-modules>=0.2.1 in c:\\users\\freecomp\\anaconda3\\lib\\site-packages (from google-auth<3,>=1.6.3->tensorboard~=2.4->tensorflow==2.4.1) (0.2.8)\n",
      "Requirement already satisfied: cachetools<5.0,>=2.0.0 in c:\\users\\freecomp\\anaconda3\\lib\\site-packages (from google-auth<3,>=1.6.3->tensorboard~=2.4->tensorflow==2.4.1) (4.2.2)\n",
      "Requirement already satisfied: requests-oauthlib>=0.7.0 in c:\\users\\freecomp\\anaconda3\\lib\\site-packages (from google-auth-oauthlib<0.5,>=0.4.1->tensorboard~=2.4->tensorflow==2.4.1) (1.3.1)\n",
      "Requirement already satisfied: importlib-metadata in c:\\users\\freecomp\\anaconda3\\lib\\site-packages (from markdown>=2.6.8->tensorboard~=2.4->tensorflow==2.4.1) (6.6.0)\n",
      "Requirement already satisfied: idna<4,>=2.5 in c:\\users\\freecomp\\anaconda3\\lib\\site-packages (from requests<3,>=2.21.0->tensorboard~=2.4->tensorflow==2.4.1) (3.4)\n",
      "Requirement already satisfied: certifi>=2017.4.17 in c:\\users\\freecomp\\anaconda3\\lib\\site-packages (from requests<3,>=2.21.0->tensorboard~=2.4->tensorflow==2.4.1) (2022.9.24)\n",
      "Requirement already satisfied: charset-normalizer~=2.0.0 in c:\\users\\freecomp\\anaconda3\\lib\\site-packages (from requests<3,>=2.21.0->tensorboard~=2.4->tensorflow==2.4.1) (2.0.4)\n",
      "Requirement already satisfied: urllib3<1.27,>=1.21.1 in c:\\users\\freecomp\\anaconda3\\lib\\site-packages (from requests<3,>=2.21.0->tensorboard~=2.4->tensorflow==2.4.1) (1.26.13)\n",
      "Requirement already satisfied: MarkupSafe>=2.1.1 in c:\\users\\freecomp\\anaconda3\\lib\\site-packages (from werkzeug>=1.0.1->tensorboard~=2.4->tensorflow==2.4.1) (2.1.2)\n",
      "Requirement already satisfied: pyasn1<0.5.0,>=0.4.6 in c:\\users\\freecomp\\anaconda3\\lib\\site-packages (from pyasn1-modules>=0.2.1->google-auth<3,>=1.6.3->tensorboard~=2.4->tensorflow==2.4.1) (0.4.8)\n",
      "Requirement already satisfied: oauthlib>=3.0.0 in c:\\users\\freecomp\\anaconda3\\lib\\site-packages (from requests-oauthlib>=0.7.0->google-auth-oauthlib<0.5,>=0.4.1->tensorboard~=2.4->tensorflow==2.4.1) (3.2.2)\n",
      "Requirement already satisfied: zipp>=0.5 in c:\\users\\freecomp\\anaconda3\\lib\\site-packages (from importlib-metadata->markdown>=2.6.8->tensorboard~=2.4->tensorflow==2.4.1) (3.11.0)\n",
      "Installing collected packages: typing-extensions, flatbuffers, numpy, grpcio\n",
      "  Attempting uninstall: typing-extensions\n",
      "    Found existing installation: typing_extensions 4.1.1\n",
      "    Uninstalling typing_extensions-4.1.1:\n",
      "      Successfully uninstalled typing_extensions-4.1.1\n",
      "  Attempting uninstall: flatbuffers\n",
      "    Found existing installation: flatbuffers 23.5.26\n",
      "    Uninstalling flatbuffers-23.5.26:\n",
      "      Successfully uninstalled flatbuffers-23.5.26\n",
      "  Attempting uninstall: numpy\n",
      "    Found existing installation: numpy 1.21.5\n",
      "    Uninstalling numpy-1.21.5:\n",
      "      Successfully uninstalled numpy-1.21.5\n",
      "  Rolling back uninstall of numpy\n",
      "  Moving to c:\\users\\freecomp\\anaconda3\\lib\\site-packages\\numpy-1.21.5.dist-info\\\n",
      "   from c:\\users\\freecomp\\anaconda3\\lib\\site-packages\\~umpy-1.21.5.dist-info\n",
      "  Moving to c:\\users\\freecomp\\anaconda3\\lib\\site-packages\\numpy\\__config__.py\n",
      "   from C:\\Users\\FreeComp\\AppData\\Local\\Temp\\pip-uninstall-gwhff50a\\__config__.py\n",
      "  Moving to c:\\users\\freecomp\\anaconda3\\lib\\site-packages\\numpy\\__init__.cython-30.pxd\n",
      "   from C:\\Users\\FreeComp\\AppData\\Local\\Temp\\pip-uninstall-gwhff50a\\__init__.cython-30.pxd\n",
      "  Moving to c:\\users\\freecomp\\anaconda3\\lib\\site-packages\\numpy\\__init__.pxd\n",
      "   from C:\\Users\\FreeComp\\AppData\\Local\\Temp\\pip-uninstall-gwhff50a\\__init__.pxd\n",
      "  Moving to c:\\users\\freecomp\\anaconda3\\lib\\site-packages\\numpy\\__init__.py\n",
      "   from C:\\Users\\FreeComp\\AppData\\Local\\Temp\\pip-uninstall-gwhff50a\\__init__.py\n",
      "  Moving to c:\\users\\freecomp\\anaconda3\\lib\\site-packages\\numpy\\__pycache__\\\n",
      "   from c:\\users\\freecomp\\anaconda3\\lib\\site-packages\\numpy\\~_pycache__\n",
      "  Moving to c:\\users\\freecomp\\anaconda3\\lib\\site-packages\\numpy\\_distributor_init.py\n",
      "   from C:\\Users\\FreeComp\\AppData\\Local\\Temp\\pip-uninstall-gwhff50a\\_distributor_init.py\n",
      "  Moving to c:\\users\\freecomp\\anaconda3\\lib\\site-packages\\numpy\\_globals.py\n",
      "   from C:\\Users\\FreeComp\\AppData\\Local\\Temp\\pip-uninstall-gwhff50a\\_globals.py\n",
      "  Moving to c:\\users\\freecomp\\anaconda3\\lib\\site-packages\\numpy\\_pytesttester.py\n",
      "   from C:\\Users\\FreeComp\\AppData\\Local\\Temp\\pip-uninstall-gwhff50a\\_pytesttester.py\n",
      "  Moving to c:\\users\\freecomp\\anaconda3\\lib\\site-packages\\numpy\\char.pyi\n",
      "   from C:\\Users\\FreeComp\\AppData\\Local\\Temp\\pip-uninstall-gwhff50a\\char.pyi\n",
      "  Moving to c:\\users\\freecomp\\anaconda3\\lib\\site-packages\\numpy\\compat\\\n",
      "   from c:\\users\\freecomp\\anaconda3\\lib\\site-packages\\numpy\\~ompat\n",
      "  Moving to c:\\users\\freecomp\\anaconda3\\lib\\site-packages\\numpy\\conftest.py\n",
      "   from C:\\Users\\FreeComp\\AppData\\Local\\Temp\\pip-uninstall-gwhff50a\\conftest.py\n",
      "  Moving to c:\\users\\freecomp\\anaconda3\\lib\\site-packages\\numpy\\core\\__init__.py\n",
      "   from C:\\Users\\FreeComp\\AppData\\Local\\Temp\\pip-uninstall-gwhff50a\\core\\__init__.py\n",
      "  Moving to c:\\users\\freecomp\\anaconda3\\lib\\site-packages\\numpy\\core\\__pycache__\\\n",
      "   from c:\\users\\freecomp\\anaconda3\\lib\\site-packages\\numpy\\core\\~_pycache__\n",
      "  Moving to c:\\users\\freecomp\\anaconda3\\lib\\site-packages\\numpy\\core\\_add_newdocs.py\n",
      "   from C:\\Users\\FreeComp\\AppData\\Local\\Temp\\pip-uninstall-gwhff50a\\core\\_add_newdocs.py\n",
      "  Moving to c:\\users\\freecomp\\anaconda3\\lib\\site-packages\\numpy\\core\\_asarray.py\n",
      "   from C:\\Users\\FreeComp\\AppData\\Local\\Temp\\pip-uninstall-gwhff50a\\core\\_asarray.py\n",
      "  Moving to c:\\users\\freecomp\\anaconda3\\lib\\site-packages\\numpy\\core\\_dtype.py\n",
      "   from C:\\Users\\FreeComp\\AppData\\Local\\Temp\\pip-uninstall-gwhff50a\\core\\_dtype.py\n",
      "  Moving to c:\\users\\freecomp\\anaconda3\\lib\\site-packages\\numpy\\core\\_dtype_ctypes.py\n",
      "   from C:\\Users\\FreeComp\\AppData\\Local\\Temp\\pip-uninstall-gwhff50a\\core\\_dtype_ctypes.py\n",
      "  Moving to c:\\users\\freecomp\\anaconda3\\lib\\site-packages\\numpy\\core\\_exceptions.py\n",
      "   from C:\\Users\\FreeComp\\AppData\\Local\\Temp\\pip-uninstall-gwhff50a\\core\\_exceptions.py\n",
      "  Moving to c:\\users\\freecomp\\anaconda3\\lib\\site-packages\\numpy\\core\\_internal.py\n",
      "   from C:\\Users\\FreeComp\\AppData\\Local\\Temp\\pip-uninstall-gwhff50a\\core\\_internal.py\n",
      "  Moving to c:\\users\\freecomp\\anaconda3\\lib\\site-packages\\numpy\\core\\_methods.py\n",
      "   from C:\\Users\\FreeComp\\AppData\\Local\\Temp\\pip-uninstall-gwhff50a\\core\\_methods.py\n",
      "  Moving to c:\\users\\freecomp\\anaconda3\\lib\\site-packages\\numpy\\core\\_multiarray_tests.cp37-win_amd64.pyd\n",
      "   from C:\\Users\\FreeComp\\AppData\\Local\\Temp\\pip-uninstall-gwhff50a\\core\\_multiarray_tests.cp37-win_amd64.pyd\n",
      "  Moving to c:\\users\\freecomp\\anaconda3\\lib\\site-packages\\numpy\\core\\_multiarray_umath.cp37-win_amd64.pyd\n",
      "   from C:\\Users\\FreeComp\\AppData\\Local\\Temp\\pip-uninstall-gwhff50a\\core\\_multiarray_umath.cp37-win_amd64.pyd\n",
      "  Moving to c:\\users\\freecomp\\anaconda3\\lib\\site-packages\\numpy\\core\\_operand_flag_tests.cp37-win_amd64.pyd\n",
      "   from C:\\Users\\FreeComp\\AppData\\Local\\Temp\\pip-uninstall-gwhff50a\\core\\_operand_flag_tests.cp37-win_amd64.pyd\n",
      "  Moving to c:\\users\\freecomp\\anaconda3\\lib\\site-packages\\numpy\\core\\_rational_tests.cp37-win_amd64.pyd\n",
      "   from C:\\Users\\FreeComp\\AppData\\Local\\Temp\\pip-uninstall-gwhff50a\\core\\_rational_tests.cp37-win_amd64.pyd\n",
      "  Moving to c:\\users\\freecomp\\anaconda3\\lib\\site-packages\\numpy\\core\\_simd.cp37-win_amd64.pyd\n",
      "   from C:\\Users\\FreeComp\\AppData\\Local\\Temp\\pip-uninstall-gwhff50a\\core\\_simd.cp37-win_amd64.pyd\n",
      "  Moving to c:\\users\\freecomp\\anaconda3\\lib\\site-packages\\numpy\\core\\_string_helpers.py\n",
      "   from C:\\Users\\FreeComp\\AppData\\Local\\Temp\\pip-uninstall-gwhff50a\\core\\_string_helpers.py\n",
      "  Moving to c:\\users\\freecomp\\anaconda3\\lib\\site-packages\\numpy\\core\\_struct_ufunc_tests.cp37-win_amd64.pyd\n",
      "   from C:\\Users\\FreeComp\\AppData\\Local\\Temp\\pip-uninstall-gwhff50a\\core\\_struct_ufunc_tests.cp37-win_amd64.pyd\n",
      "  Moving to c:\\users\\freecomp\\anaconda3\\lib\\site-packages\\numpy\\core\\_type_aliases.py\n",
      "   from C:\\Users\\FreeComp\\AppData\\Local\\Temp\\pip-uninstall-gwhff50a\\core\\_type_aliases.py\n",
      "  Moving to c:\\users\\freecomp\\anaconda3\\lib\\site-packages\\numpy\\core\\_ufunc_config.py\n",
      "   from C:\\Users\\FreeComp\\AppData\\Local\\Temp\\pip-uninstall-gwhff50a\\core\\_ufunc_config.py\n",
      "  Moving to c:\\users\\freecomp\\anaconda3\\lib\\site-packages\\numpy\\core\\_umath_tests.cp37-win_amd64.pyd\n",
      "   from C:\\Users\\FreeComp\\AppData\\Local\\Temp\\pip-uninstall-gwhff50a\\core\\_umath_tests.cp37-win_amd64.pyd\n",
      "  Moving to c:\\users\\freecomp\\anaconda3\\lib\\site-packages\\numpy\\core\\arrayprint.py\n",
      "   from C:\\Users\\FreeComp\\AppData\\Local\\Temp\\pip-uninstall-gwhff50a\\core\\arrayprint.py\n",
      "  Moving to c:\\users\\freecomp\\anaconda3\\lib\\site-packages\\numpy\\core\\cversions.py\n",
      "   from C:\\Users\\FreeComp\\AppData\\Local\\Temp\\pip-uninstall-gwhff50a\\core\\cversions.py\n",
      "  Moving to c:\\users\\freecomp\\anaconda3\\lib\\site-packages\\numpy\\core\\defchararray.py\n",
      "   from C:\\Users\\FreeComp\\AppData\\Local\\Temp\\pip-uninstall-gwhff50a\\core\\defchararray.py\n",
      "  Moving to c:\\users\\freecomp\\anaconda3\\lib\\site-packages\\numpy\\core\\einsumfunc.py\n",
      "   from C:\\Users\\FreeComp\\AppData\\Local\\Temp\\pip-uninstall-gwhff50a\\core\\einsumfunc.py\n",
      "  Moving to c:\\users\\freecomp\\anaconda3\\lib\\site-packages\\numpy\\core\\fromnumeric.py\n",
      "   from C:\\Users\\FreeComp\\AppData\\Local\\Temp\\pip-uninstall-gwhff50a\\core\\fromnumeric.py\n",
      "  Moving to c:\\users\\freecomp\\anaconda3\\lib\\site-packages\\numpy\\core\\function_base.py\n",
      "   from C:\\Users\\FreeComp\\AppData\\Local\\Temp\\pip-uninstall-gwhff50a\\core\\function_base.py\n",
      "  Moving to c:\\users\\freecomp\\anaconda3\\lib\\site-packages\\numpy\\core\\generate_numpy_api.py\n",
      "   from C:\\Users\\FreeComp\\AppData\\Local\\Temp\\pip-uninstall-gwhff50a\\core\\generate_numpy_api.py\n",
      "  Moving to c:\\users\\freecomp\\anaconda3\\lib\\site-packages\\numpy\\core\\getlimits.py\n",
      "   from C:\\Users\\FreeComp\\AppData\\Local\\Temp\\pip-uninstall-gwhff50a\\core\\getlimits.py\n",
      "  Moving to c:\\users\\freecomp\\anaconda3\\lib\\site-packages\\numpy\\core\\include\\numpy\\\n",
      "   from c:\\users\\freecomp\\anaconda3\\lib\\site-packages\\numpy\\core\\include\\~umpy\n",
      "  Moving to c:\\users\\freecomp\\anaconda3\\lib\\site-packages\\numpy\\core\\lib\\\n",
      "   from c:\\users\\freecomp\\anaconda3\\lib\\site-packages\\numpy\\core\\~ib\n",
      "  Moving to c:\\users\\freecomp\\anaconda3\\lib\\site-packages\\numpy\\core\\machar.py\n",
      "   from C:\\Users\\FreeComp\\AppData\\Local\\Temp\\pip-uninstall-gwhff50a\\core\\machar.py\n",
      "  Moving to c:\\users\\freecomp\\anaconda3\\lib\\site-packages\\numpy\\core\\memmap.py\n",
      "   from C:\\Users\\FreeComp\\AppData\\Local\\Temp\\pip-uninstall-gwhff50a\\core\\memmap.py\n",
      "  Moving to c:\\users\\freecomp\\anaconda3\\lib\\site-packages\\numpy\\core\\multiarray.py\n",
      "   from C:\\Users\\FreeComp\\AppData\\Local\\Temp\\pip-uninstall-gwhff50a\\core\\multiarray.py\n",
      "  Moving to c:\\users\\freecomp\\anaconda3\\lib\\site-packages\\numpy\\core\\numeric.py\n",
      "   from C:\\Users\\FreeComp\\AppData\\Local\\Temp\\pip-uninstall-gwhff50a\\core\\numeric.py\n",
      "  Moving to c:\\users\\freecomp\\anaconda3\\lib\\site-packages\\numpy\\core\\numerictypes.py\n",
      "   from C:\\Users\\FreeComp\\AppData\\Local\\Temp\\pip-uninstall-gwhff50a\\core\\numerictypes.py\n",
      "  Moving to c:\\users\\freecomp\\anaconda3\\lib\\site-packages\\numpy\\core\\overrides.py\n",
      "   from C:\\Users\\FreeComp\\AppData\\Local\\Temp\\pip-uninstall-gwhff50a\\core\\overrides.py\n",
      "  Moving to c:\\users\\freecomp\\anaconda3\\lib\\site-packages\\numpy\\core\\records.py\n",
      "   from C:\\Users\\FreeComp\\AppData\\Local\\Temp\\pip-uninstall-gwhff50a\\core\\records.py\n",
      "  Moving to c:\\users\\freecomp\\anaconda3\\lib\\site-packages\\numpy\\core\\setup.py\n",
      "   from C:\\Users\\FreeComp\\AppData\\Local\\Temp\\pip-uninstall-gwhff50a\\core\\setup.py\n",
      "  Moving to c:\\users\\freecomp\\anaconda3\\lib\\site-packages\\numpy\\core\\setup_common.py\n",
      "   from C:\\Users\\FreeComp\\AppData\\Local\\Temp\\pip-uninstall-gwhff50a\\core\\setup_common.py\n",
      "  Moving to c:\\users\\freecomp\\anaconda3\\lib\\site-packages\\numpy\\core\\shape_base.py\n",
      "   from C:\\Users\\FreeComp\\AppData\\Local\\Temp\\pip-uninstall-gwhff50a\\core\\shape_base.py\n",
      "  Moving to c:\\users\\freecomp\\anaconda3\\lib\\site-packages\\numpy\\core\\tests\\__init__.py\n",
      "   from C:\\Users\\FreeComp\\AppData\\Local\\Temp\\pip-uninstall-gwhff50a\\core\\tests\\__init__.py\n",
      "  Moving to c:\\users\\freecomp\\anaconda3\\lib\\site-packages\\numpy\\core\\tests\\__pycache__\\\n",
      "   from c:\\users\\freecomp\\anaconda3\\lib\\site-packages\\numpy\\core\\tests\\~_pycache__\n",
      "  Moving to c:\\users\\freecomp\\anaconda3\\lib\\site-packages\\numpy\\core\\tests\\_locales.py\n",
      "   from C:\\Users\\FreeComp\\AppData\\Local\\Temp\\pip-uninstall-gwhff50a\\core\\tests\\_locales.py\n",
      "  Moving to c:\\users\\freecomp\\anaconda3\\lib\\site-packages\\numpy\\core\\tests\\data\\astype_copy.pkl\n",
      "   from C:\\Users\\FreeComp\\AppData\\Local\\Temp\\pip-uninstall-gwhff50a\\core\\tests\\data\\astype_copy.pkl\n",
      "  Moving to c:\\users\\freecomp\\anaconda3\\lib\\site-packages\\numpy\\core\\tests\\data\\recarray_from_file.fits\n",
      "   from C:\\Users\\FreeComp\\AppData\\Local\\Temp\\pip-uninstall-gwhff50a\\core\\tests\\data\\recarray_from_file.fits\n",
      "  Moving to c:\\users\\freecomp\\anaconda3\\lib\\site-packages\\numpy\\core\\tests\\examples\\\n",
      "   from c:\\users\\freecomp\\anaconda3\\lib\\site-packages\\numpy\\core\\tests\\~xamples\n",
      "  Moving to c:\\users\\freecomp\\anaconda3\\lib\\site-packages\\numpy\\core\\tests\\test__exceptions.py\n",
      "   from C:\\Users\\FreeComp\\AppData\\Local\\Temp\\pip-uninstall-gwhff50a\\core\\tests\\test__exceptions.py\n",
      "  Moving to c:\\users\\freecomp\\anaconda3\\lib\\site-packages\\numpy\\core\\tests\\test_abc.py\n",
      "   from C:\\Users\\FreeComp\\AppData\\Local\\Temp\\pip-uninstall-gwhff50a\\core\\tests\\test_abc.py\n",
      "  Moving to c:\\users\\freecomp\\anaconda3\\lib\\site-packages\\numpy\\core\\tests\\test_api.py\n",
      "   from C:\\Users\\FreeComp\\AppData\\Local\\Temp\\pip-uninstall-gwhff50a\\core\\tests\\test_api.py\n",
      "  Moving to c:\\users\\freecomp\\anaconda3\\lib\\site-packages\\numpy\\core\\tests\\test_arrayprint.py\n",
      "   from C:\\Users\\FreeComp\\AppData\\Local\\Temp\\pip-uninstall-gwhff50a\\core\\tests\\test_arrayprint.py\n",
      "  Moving to c:\\users\\freecomp\\anaconda3\\lib\\site-packages\\numpy\\core\\tests\\test_conversion_utils.py\n",
      "   from C:\\Users\\FreeComp\\AppData\\Local\\Temp\\pip-uninstall-gwhff50a\\core\\tests\\test_conversion_utils.py\n",
      "  Moving to c:\\users\\freecomp\\anaconda3\\lib\\site-packages\\numpy\\core\\tests\\test_cpu_features.py\n",
      "   from C:\\Users\\FreeComp\\AppData\\Local\\Temp\\pip-uninstall-gwhff50a\\core\\tests\\test_cpu_features.py\n",
      "  Moving to c:\\users\\freecomp\\anaconda3\\lib\\site-packages\\numpy\\core\\tests\\test_datetime.py\n",
      "   from C:\\Users\\FreeComp\\AppData\\Local\\Temp\\pip-uninstall-gwhff50a\\core\\tests\\test_datetime.py\n",
      "  Moving to c:\\users\\freecomp\\anaconda3\\lib\\site-packages\\numpy\\core\\tests\\test_defchararray.py\n",
      "   from C:\\Users\\FreeComp\\AppData\\Local\\Temp\\pip-uninstall-gwhff50a\\core\\tests\\test_defchararray.py\n",
      "  Moving to c:\\users\\freecomp\\anaconda3\\lib\\site-packages\\numpy\\core\\tests\\test_deprecations.py\n",
      "   from C:\\Users\\FreeComp\\AppData\\Local\\Temp\\pip-uninstall-gwhff50a\\core\\tests\\test_deprecations.py\n",
      "  Moving to c:\\users\\freecomp\\anaconda3\\lib\\site-packages\\numpy\\core\\tests\\test_dtype.py\n",
      "   from C:\\Users\\FreeComp\\AppData\\Local\\Temp\\pip-uninstall-gwhff50a\\core\\tests\\test_dtype.py\n",
      "  Moving to c:\\users\\freecomp\\anaconda3\\lib\\site-packages\\numpy\\core\\tests\\test_einsum.py\n",
      "   from C:\\Users\\FreeComp\\AppData\\Local\\Temp\\pip-uninstall-gwhff50a\\core\\tests\\test_einsum.py\n",
      "  Moving to c:\\users\\freecomp\\anaconda3\\lib\\site-packages\\numpy\\core\\tests\\test_errstate.py\n",
      "   from C:\\Users\\FreeComp\\AppData\\Local\\Temp\\pip-uninstall-gwhff50a\\core\\tests\\test_errstate.py\n",
      "  Moving to c:\\users\\freecomp\\anaconda3\\lib\\site-packages\\numpy\\core\\tests\\test_extint128.py\n",
      "   from C:\\Users\\FreeComp\\AppData\\Local\\Temp\\pip-uninstall-gwhff50a\\core\\tests\\test_extint128.py\n",
      "  Moving to c:\\users\\freecomp\\anaconda3\\lib\\site-packages\\numpy\\core\\tests\\test_function_base.py\n",
      "   from C:\\Users\\FreeComp\\AppData\\Local\\Temp\\pip-uninstall-gwhff50a\\core\\tests\\test_function_base.py\n",
      "  Moving to c:\\users\\freecomp\\anaconda3\\lib\\site-packages\\numpy\\core\\tests\\test_getlimits.py\n",
      "   from C:\\Users\\FreeComp\\AppData\\Local\\Temp\\pip-uninstall-gwhff50a\\core\\tests\\test_getlimits.py\n",
      "  Moving to c:\\users\\freecomp\\anaconda3\\lib\\site-packages\\numpy\\core\\tests\\test_half.py\n",
      "   from C:\\Users\\FreeComp\\AppData\\Local\\Temp\\pip-uninstall-gwhff50a\\core\\tests\\test_half.py\n",
      "  Moving to c:\\users\\freecomp\\anaconda3\\lib\\site-packages\\numpy\\core\\tests\\test_indexerrors.py\n",
      "   from C:\\Users\\FreeComp\\AppData\\Local\\Temp\\pip-uninstall-gwhff50a\\core\\tests\\test_indexerrors.py\n",
      "  Moving to c:\\users\\freecomp\\anaconda3\\lib\\site-packages\\numpy\\core\\tests\\test_indexing.py\n",
      "   from C:\\Users\\FreeComp\\AppData\\Local\\Temp\\pip-uninstall-gwhff50a\\core\\tests\\test_indexing.py\n",
      "  Moving to c:\\users\\freecomp\\anaconda3\\lib\\site-packages\\numpy\\core\\tests\\test_item_selection.py\n",
      "   from C:\\Users\\FreeComp\\AppData\\Local\\Temp\\pip-uninstall-gwhff50a\\core\\tests\\test_item_selection.py\n",
      "  Moving to c:\\users\\freecomp\\anaconda3\\lib\\site-packages\\numpy\\core\\tests\\test_longdouble.py\n",
      "   from C:\\Users\\FreeComp\\AppData\\Local\\Temp\\pip-uninstall-gwhff50a\\core\\tests\\test_longdouble.py\n",
      "  Moving to c:\\users\\freecomp\\anaconda3\\lib\\site-packages\\numpy\\core\\tests\\test_machar.py\n",
      "   from C:\\Users\\FreeComp\\AppData\\Local\\Temp\\pip-uninstall-gwhff50a\\core\\tests\\test_machar.py\n",
      "  Moving to c:\\users\\freecomp\\anaconda3\\lib\\site-packages\\numpy\\core\\tests\\test_mem_overlap.py\n",
      "   from C:\\Users\\FreeComp\\AppData\\Local\\Temp\\pip-uninstall-gwhff50a\\core\\tests\\test_mem_overlap.py\n",
      "  Moving to c:\\users\\freecomp\\anaconda3\\lib\\site-packages\\numpy\\core\\tests\\test_memmap.py\n",
      "   from C:\\Users\\FreeComp\\AppData\\Local\\Temp\\pip-uninstall-gwhff50a\\core\\tests\\test_memmap.py\n",
      "  Moving to c:\\users\\freecomp\\anaconda3\\lib\\site-packages\\numpy\\core\\tests\\test_multiarray.py\n",
      "   from C:\\Users\\FreeComp\\AppData\\Local\\Temp\\pip-uninstall-gwhff50a\\core\\tests\\test_multiarray.py\n",
      "  Moving to c:\\users\\freecomp\\anaconda3\\lib\\site-packages\\numpy\\core\\tests\\test_nditer.py\n",
      "   from C:\\Users\\FreeComp\\AppData\\Local\\Temp\\pip-uninstall-gwhff50a\\core\\tests\\test_nditer.py\n",
      "  Moving to c:\\users\\freecomp\\anaconda3\\lib\\site-packages\\numpy\\core\\tests\\test_numeric.py\n",
      "   from C:\\Users\\FreeComp\\AppData\\Local\\Temp\\pip-uninstall-gwhff50a\\core\\tests\\test_numeric.py\n",
      "  Moving to c:\\users\\freecomp\\anaconda3\\lib\\site-packages\\numpy\\core\\tests\\test_numerictypes.py\n",
      "   from C:\\Users\\FreeComp\\AppData\\Local\\Temp\\pip-uninstall-gwhff50a\\core\\tests\\test_numerictypes.py\n",
      "  Moving to c:\\users\\freecomp\\anaconda3\\lib\\site-packages\\numpy\\core\\tests\\test_overrides.py\n",
      "   from C:\\Users\\FreeComp\\AppData\\Local\\Temp\\pip-uninstall-gwhff50a\\core\\tests\\test_overrides.py\n",
      "  Moving to c:\\users\\freecomp\\anaconda3\\lib\\site-packages\\numpy\\core\\tests\\test_print.py\n",
      "   from C:\\Users\\FreeComp\\AppData\\Local\\Temp\\pip-uninstall-gwhff50a\\core\\tests\\test_print.py\n",
      "  Moving to c:\\users\\freecomp\\anaconda3\\lib\\site-packages\\numpy\\core\\tests\\test_protocols.py\n",
      "   from C:\\Users\\FreeComp\\AppData\\Local\\Temp\\pip-uninstall-gwhff50a\\core\\tests\\test_protocols.py\n",
      "  Moving to c:\\users\\freecomp\\anaconda3\\lib\\site-packages\\numpy\\core\\tests\\test_records.py\n",
      "   from C:\\Users\\FreeComp\\AppData\\Local\\Temp\\pip-uninstall-gwhff50a\\core\\tests\\test_records.py\n",
      "  Moving to c:\\users\\freecomp\\anaconda3\\lib\\site-packages\\numpy\\core\\tests\\test_regression.py\n",
      "   from C:\\Users\\FreeComp\\AppData\\Local\\Temp\\pip-uninstall-gwhff50a\\core\\tests\\test_regression.py\n",
      "  Moving to c:\\users\\freecomp\\anaconda3\\lib\\site-packages\\numpy\\core\\tests\\test_scalar_ctors.py\n",
      "   from C:\\Users\\FreeComp\\AppData\\Local\\Temp\\pip-uninstall-gwhff50a\\core\\tests\\test_scalar_ctors.py\n",
      "  Moving to c:\\users\\freecomp\\anaconda3\\lib\\site-packages\\numpy\\core\\tests\\test_scalar_methods.py\n",
      "   from C:\\Users\\FreeComp\\AppData\\Local\\Temp\\pip-uninstall-gwhff50a\\core\\tests\\test_scalar_methods.py\n",
      "  Moving to c:\\users\\freecomp\\anaconda3\\lib\\site-packages\\numpy\\core\\tests\\test_scalarbuffer.py\n",
      "   from C:\\Users\\FreeComp\\AppData\\Local\\Temp\\pip-uninstall-gwhff50a\\core\\tests\\test_scalarbuffer.py\n",
      "  Moving to c:\\users\\freecomp\\anaconda3\\lib\\site-packages\\numpy\\core\\tests\\test_scalarinherit.py\n",
      "   from C:\\Users\\FreeComp\\AppData\\Local\\Temp\\pip-uninstall-gwhff50a\\core\\tests\\test_scalarinherit.py\n",
      "  Moving to c:\\users\\freecomp\\anaconda3\\lib\\site-packages\\numpy\\core\\tests\\test_scalarmath.py\n",
      "   from C:\\Users\\FreeComp\\AppData\\Local\\Temp\\pip-uninstall-gwhff50a\\core\\tests\\test_scalarmath.py\n",
      "  Moving to c:\\users\\freecomp\\anaconda3\\lib\\site-packages\\numpy\\core\\tests\\test_scalarprint.py\n",
      "   from C:\\Users\\FreeComp\\AppData\\Local\\Temp\\pip-uninstall-gwhff50a\\core\\tests\\test_scalarprint.py\n",
      "  Moving to c:\\users\\freecomp\\anaconda3\\lib\\site-packages\\numpy\\core\\tests\\test_shape_base.py\n",
      "   from C:\\Users\\FreeComp\\AppData\\Local\\Temp\\pip-uninstall-gwhff50a\\core\\tests\\test_shape_base.py\n",
      "  Moving to c:\\users\\freecomp\\anaconda3\\lib\\site-packages\\numpy\\core\\tests\\test_ufunc.py\n",
      "   from C:\\Users\\FreeComp\\AppData\\Local\\Temp\\pip-uninstall-gwhff50a\\core\\tests\\test_ufunc.py\n",
      "  Moving to c:\\users\\freecomp\\anaconda3\\lib\\site-packages\\numpy\\core\\tests\\test_umath.py\n",
      "   from C:\\Users\\FreeComp\\AppData\\Local\\Temp\\pip-uninstall-gwhff50a\\core\\tests\\test_umath.py\n",
      "  Moving to c:\\users\\freecomp\\anaconda3\\lib\\site-packages\\numpy\\core\\tests\\test_umath_accuracy.py\n",
      "   from C:\\Users\\FreeComp\\AppData\\Local\\Temp\\pip-uninstall-gwhff50a\\core\\tests\\test_umath_accuracy.py\n",
      "  Moving to c:\\users\\freecomp\\anaconda3\\lib\\site-packages\\numpy\\core\\tests\\test_umath_complex.py\n",
      "   from C:\\Users\\FreeComp\\AppData\\Local\\Temp\\pip-uninstall-gwhff50a\\core\\tests\\test_umath_complex.py\n",
      "  Moving to c:\\users\\freecomp\\anaconda3\\lib\\site-packages\\numpy\\core\\tests\\test_unicode.py\n",
      "   from C:\\Users\\FreeComp\\AppData\\Local\\Temp\\pip-uninstall-gwhff50a\\core\\tests\\test_unicode.py\n",
      "  Moving to c:\\users\\freecomp\\anaconda3\\lib\\site-packages\\numpy\\core\\umath.py\n",
      "   from C:\\Users\\FreeComp\\AppData\\Local\\Temp\\pip-uninstall-gwhff50a\\core\\umath.py\n",
      "  Moving to c:\\users\\freecomp\\anaconda3\\lib\\site-packages\\numpy\\core\\umath_tests.py\n",
      "   from C:\\Users\\FreeComp\\AppData\\Local\\Temp\\pip-uninstall-gwhff50a\\core\\umath_tests.py\n",
      "  Moving to c:\\users\\freecomp\\anaconda3\\lib\\site-packages\\numpy\\ctypeslib.py\n",
      "   from C:\\Users\\FreeComp\\AppData\\Local\\Temp\\pip-uninstall-gwhff50a\\ctypeslib.py\n",
      "  Moving to c:\\users\\freecomp\\anaconda3\\lib\\site-packages\\numpy\\distutils\\\n",
      "   from c:\\users\\freecomp\\anaconda3\\lib\\site-packages\\numpy\\~istutils\n",
      "  Moving to c:\\users\\freecomp\\anaconda3\\lib\\site-packages\\numpy\\doc\\__init__.py\n",
      "   from C:\\Users\\FreeComp\\AppData\\Local\\Temp\\pip-uninstall-gwhff50a\\doc\\__init__.py\n",
      "  Moving to c:\\users\\freecomp\\anaconda3\\lib\\site-packages\\numpy\\doc\\__pycache__\\__init__.cpython-37.pyc\n",
      "   from C:\\Users\\FreeComp\\AppData\\Local\\Temp\\pip-uninstall-gwhff50a\\doc\\__pycache__\\__init__.cpython-37.pyc\n",
      "  Moving to c:\\users\\freecomp\\anaconda3\\lib\\site-packages\\numpy\\doc\\__pycache__\\constants.cpython-37.pyc\n",
      "   from C:\\Users\\FreeComp\\AppData\\Local\\Temp\\pip-uninstall-gwhff50a\\doc\\__pycache__\\constants.cpython-37.pyc\n",
      "  Moving to c:\\users\\freecomp\\anaconda3\\lib\\site-packages\\numpy\\doc\\__pycache__\\ufuncs.cpython-37.pyc\n",
      "   from C:\\Users\\FreeComp\\AppData\\Local\\Temp\\pip-uninstall-gwhff50a\\doc\\__pycache__\\ufuncs.cpython-37.pyc\n",
      "  Moving to c:\\users\\freecomp\\anaconda3\\lib\\site-packages\\numpy\\doc\\constants.py\n",
      "   from C:\\Users\\FreeComp\\AppData\\Local\\Temp\\pip-uninstall-gwhff50a\\doc\\constants.py\n",
      "  Moving to c:\\users\\freecomp\\anaconda3\\lib\\site-packages\\numpy\\doc\\ufuncs.py\n",
      "   from C:\\Users\\FreeComp\\AppData\\Local\\Temp\\pip-uninstall-gwhff50a\\doc\\ufuncs.py\n",
      "  Moving to c:\\users\\freecomp\\anaconda3\\lib\\site-packages\\numpy\\dual.py\n",
      "   from C:\\Users\\FreeComp\\AppData\\Local\\Temp\\pip-uninstall-gwhff50a\\dual.py\n",
      "  Moving to c:\\users\\freecomp\\anaconda3\\lib\\site-packages\\numpy\\f2py\\\n",
      "   from c:\\users\\freecomp\\anaconda3\\lib\\site-packages\\numpy\\~2py\n",
      "  Moving to c:\\users\\freecomp\\anaconda3\\lib\\site-packages\\numpy\\fft\\\n",
      "   from c:\\users\\freecomp\\anaconda3\\lib\\site-packages\\numpy\\~ft\n",
      "  Moving to c:\\users\\freecomp\\anaconda3\\lib\\site-packages\\numpy\\lib\\__init__.py\n",
      "   from C:\\Users\\FreeComp\\AppData\\Local\\Temp\\pip-uninstall-gwhff50a\\lib\\__init__.py\n",
      "  Moving to c:\\users\\freecomp\\anaconda3\\lib\\site-packages\\numpy\\lib\\__pycache__\\__init__.cpython-37.pyc\n",
      "   from C:\\Users\\FreeComp\\AppData\\Local\\Temp\\pip-uninstall-gwhff50a\\lib\\__pycache__\\__init__.cpython-37.pyc\n",
      "  Moving to c:\\users\\freecomp\\anaconda3\\lib\\site-packages\\numpy\\lib\\__pycache__\\_datasource.cpython-37.pyc\n",
      "   from C:\\Users\\FreeComp\\AppData\\Local\\Temp\\pip-uninstall-gwhff50a\\lib\\__pycache__\\_datasource.cpython-37.pyc\n",
      "  Moving to c:\\users\\freecomp\\anaconda3\\lib\\site-packages\\numpy\\lib\\__pycache__\\_iotools.cpython-37.pyc\n",
      "   from C:\\Users\\FreeComp\\AppData\\Local\\Temp\\pip-uninstall-gwhff50a\\lib\\__pycache__\\_iotools.cpython-37.pyc\n",
      "  Moving to c:\\users\\freecomp\\anaconda3\\lib\\site-packages\\numpy\\lib\\__pycache__\\_version.cpython-37.pyc\n",
      "   from C:\\Users\\FreeComp\\AppData\\Local\\Temp\\pip-uninstall-gwhff50a\\lib\\__pycache__\\_version.cpython-37.pyc\n",
      "  Moving to c:\\users\\freecomp\\anaconda3\\lib\\site-packages\\numpy\\lib\\__pycache__\\arraypad.cpython-37.pyc\n",
      "   from C:\\Users\\FreeComp\\AppData\\Local\\Temp\\pip-uninstall-gwhff50a\\lib\\__pycache__\\arraypad.cpython-37.pyc\n",
      "  Moving to c:\\users\\freecomp\\anaconda3\\lib\\site-packages\\numpy\\lib\\__pycache__\\arraysetops.cpython-37.pyc\n",
      "   from C:\\Users\\FreeComp\\AppData\\Local\\Temp\\pip-uninstall-gwhff50a\\lib\\__pycache__\\arraysetops.cpython-37.pyc\n",
      "  Moving to c:\\users\\freecomp\\anaconda3\\lib\\site-packages\\numpy\\lib\\__pycache__\\arrayterator.cpython-37.pyc\n",
      "   from C:\\Users\\FreeComp\\AppData\\Local\\Temp\\pip-uninstall-gwhff50a\\lib\\__pycache__\\arrayterator.cpython-37.pyc\n",
      "  Moving to c:\\users\\freecomp\\anaconda3\\lib\\site-packages\\numpy\\lib\\__pycache__\\format.cpython-37.pyc\n",
      "   from C:\\Users\\FreeComp\\AppData\\Local\\Temp\\pip-uninstall-gwhff50a\\lib\\__pycache__\\format.cpython-37.pyc\n",
      "  Moving to c:\\users\\freecomp\\anaconda3\\lib\\site-packages\\numpy\\lib\\__pycache__\\function_base.cpython-37.pyc\n",
      "   from C:\\Users\\FreeComp\\AppData\\Local\\Temp\\pip-uninstall-gwhff50a\\lib\\__pycache__\\function_base.cpython-37.pyc\n",
      "  Moving to c:\\users\\freecomp\\anaconda3\\lib\\site-packages\\numpy\\lib\\__pycache__\\histograms.cpython-37.pyc\n",
      "   from C:\\Users\\FreeComp\\AppData\\Local\\Temp\\pip-uninstall-gwhff50a\\lib\\__pycache__\\histograms.cpython-37.pyc\n",
      "  Moving to c:\\users\\freecomp\\anaconda3\\lib\\site-packages\\numpy\\lib\\__pycache__\\index_tricks.cpython-37.pyc\n",
      "   from C:\\Users\\FreeComp\\AppData\\Local\\Temp\\pip-uninstall-gwhff50a\\lib\\__pycache__\\index_tricks.cpython-37.pyc\n",
      "  Moving to c:\\users\\freecomp\\anaconda3\\lib\\site-packages\\numpy\\lib\\__pycache__\\mixins.cpython-37.pyc\n",
      "   from C:\\Users\\FreeComp\\AppData\\Local\\Temp\\pip-uninstall-gwhff50a\\lib\\__pycache__\\mixins.cpython-37.pyc\n",
      "  Moving to c:\\users\\freecomp\\anaconda3\\lib\\site-packages\\numpy\\lib\\__pycache__\\nanfunctions.cpython-37.pyc\n",
      "   from C:\\Users\\FreeComp\\AppData\\Local\\Temp\\pip-uninstall-gwhff50a\\lib\\__pycache__\\nanfunctions.cpython-37.pyc\n",
      "  Moving to c:\\users\\freecomp\\anaconda3\\lib\\site-packages\\numpy\\lib\\__pycache__\\npyio.cpython-37.pyc\n",
      "   from C:\\Users\\FreeComp\\AppData\\Local\\Temp\\pip-uninstall-gwhff50a\\lib\\__pycache__\\npyio.cpython-37.pyc\n",
      "  Moving to c:\\users\\freecomp\\anaconda3\\lib\\site-packages\\numpy\\lib\\__pycache__\\polynomial.cpython-37.pyc\n",
      "   from C:\\Users\\FreeComp\\AppData\\Local\\Temp\\pip-uninstall-gwhff50a\\lib\\__pycache__\\polynomial.cpython-37.pyc\n",
      "  Moving to c:\\users\\freecomp\\anaconda3\\lib\\site-packages\\numpy\\lib\\__pycache__\\recfunctions.cpython-37.pyc\n",
      "   from C:\\Users\\FreeComp\\AppData\\Local\\Temp\\pip-uninstall-gwhff50a\\lib\\__pycache__\\recfunctions.cpython-37.pyc\n",
      "  Moving to c:\\users\\freecomp\\anaconda3\\lib\\site-packages\\numpy\\lib\\__pycache__\\scimath.cpython-37.pyc\n",
      "   from C:\\Users\\FreeComp\\AppData\\Local\\Temp\\pip-uninstall-gwhff50a\\lib\\__pycache__\\scimath.cpython-37.pyc\n",
      "  Moving to c:\\users\\freecomp\\anaconda3\\lib\\site-packages\\numpy\\lib\\__pycache__\\setup.cpython-37.pyc\n",
      "   from C:\\Users\\FreeComp\\AppData\\Local\\Temp\\pip-uninstall-gwhff50a\\lib\\__pycache__\\setup.cpython-37.pyc\n",
      "  Moving to c:\\users\\freecomp\\anaconda3\\lib\\site-packages\\numpy\\lib\\__pycache__\\shape_base.cpython-37.pyc\n",
      "   from C:\\Users\\FreeComp\\AppData\\Local\\Temp\\pip-uninstall-gwhff50a\\lib\\__pycache__\\shape_base.cpython-37.pyc\n",
      "  Moving to c:\\users\\freecomp\\anaconda3\\lib\\site-packages\\numpy\\lib\\__pycache__\\stride_tricks.cpython-37.pyc\n",
      "   from C:\\Users\\FreeComp\\AppData\\Local\\Temp\\pip-uninstall-gwhff50a\\lib\\__pycache__\\stride_tricks.cpython-37.pyc\n",
      "  Moving to c:\\users\\freecomp\\anaconda3\\lib\\site-packages\\numpy\\lib\\__pycache__\\twodim_base.cpython-37.pyc\n",
      "   from C:\\Users\\FreeComp\\AppData\\Local\\Temp\\pip-uninstall-gwhff50a\\lib\\__pycache__\\twodim_base.cpython-37.pyc\n",
      "  Moving to c:\\users\\freecomp\\anaconda3\\lib\\site-packages\\numpy\\lib\\__pycache__\\type_check.cpython-37.pyc\n",
      "   from C:\\Users\\FreeComp\\AppData\\Local\\Temp\\pip-uninstall-gwhff50a\\lib\\__pycache__\\type_check.cpython-37.pyc\n",
      "  Moving to c:\\users\\freecomp\\anaconda3\\lib\\site-packages\\numpy\\lib\\__pycache__\\ufunclike.cpython-37.pyc\n",
      "   from C:\\Users\\FreeComp\\AppData\\Local\\Temp\\pip-uninstall-gwhff50a\\lib\\__pycache__\\ufunclike.cpython-37.pyc\n",
      "  Moving to c:\\users\\freecomp\\anaconda3\\lib\\site-packages\\numpy\\lib\\__pycache__\\user_array.cpython-37.pyc\n",
      "   from C:\\Users\\FreeComp\\AppData\\Local\\Temp\\pip-uninstall-gwhff50a\\lib\\__pycache__\\user_array.cpython-37.pyc\n",
      "  Moving to c:\\users\\freecomp\\anaconda3\\lib\\site-packages\\numpy\\lib\\__pycache__\\utils.cpython-37.pyc\n",
      "   from C:\\Users\\FreeComp\\AppData\\Local\\Temp\\pip-uninstall-gwhff50a\\lib\\__pycache__\\utils.cpython-37.pyc\n",
      "  Moving to c:\\users\\freecomp\\anaconda3\\lib\\site-packages\\numpy\\lib\\_datasource.py\n",
      "   from C:\\Users\\FreeComp\\AppData\\Local\\Temp\\pip-uninstall-gwhff50a\\lib\\_datasource.py\n",
      "  Moving to c:\\users\\freecomp\\anaconda3\\lib\\site-packages\\numpy\\lib\\_iotools.py\n",
      "   from C:\\Users\\FreeComp\\AppData\\Local\\Temp\\pip-uninstall-gwhff50a\\lib\\_iotools.py\n",
      "  Moving to c:\\users\\freecomp\\anaconda3\\lib\\site-packages\\numpy\\lib\\_version.py\n",
      "   from C:\\Users\\FreeComp\\AppData\\Local\\Temp\\pip-uninstall-gwhff50a\\lib\\_version.py\n",
      "  Moving to c:\\users\\freecomp\\anaconda3\\lib\\site-packages\\numpy\\lib\\arraypad.py\n",
      "   from C:\\Users\\FreeComp\\AppData\\Local\\Temp\\pip-uninstall-gwhff50a\\lib\\arraypad.py\n",
      "  Moving to c:\\users\\freecomp\\anaconda3\\lib\\site-packages\\numpy\\lib\\arraysetops.py\n",
      "   from C:\\Users\\FreeComp\\AppData\\Local\\Temp\\pip-uninstall-gwhff50a\\lib\\arraysetops.py\n",
      "  Moving to c:\\users\\freecomp\\anaconda3\\lib\\site-packages\\numpy\\lib\\arrayterator.py\n",
      "   from C:\\Users\\FreeComp\\AppData\\Local\\Temp\\pip-uninstall-gwhff50a\\lib\\arrayterator.py\n",
      "  Moving to c:\\users\\freecomp\\anaconda3\\lib\\site-packages\\numpy\\lib\\format.py\n",
      "   from C:\\Users\\FreeComp\\AppData\\Local\\Temp\\pip-uninstall-gwhff50a\\lib\\format.py\n",
      "  Moving to c:\\users\\freecomp\\anaconda3\\lib\\site-packages\\numpy\\lib\\function_base.py\n",
      "   from C:\\Users\\FreeComp\\AppData\\Local\\Temp\\pip-uninstall-gwhff50a\\lib\\function_base.py\n",
      "  Moving to c:\\users\\freecomp\\anaconda3\\lib\\site-packages\\numpy\\lib\\histograms.py\n",
      "   from C:\\Users\\FreeComp\\AppData\\Local\\Temp\\pip-uninstall-gwhff50a\\lib\\histograms.py\n",
      "  Moving to c:\\users\\freecomp\\anaconda3\\lib\\site-packages\\numpy\\lib\\index_tricks.py\n",
      "   from C:\\Users\\FreeComp\\AppData\\Local\\Temp\\pip-uninstall-gwhff50a\\lib\\index_tricks.py\n",
      "  Moving to c:\\users\\freecomp\\anaconda3\\lib\\site-packages\\numpy\\lib\\mixins.py\n",
      "   from C:\\Users\\FreeComp\\AppData\\Local\\Temp\\pip-uninstall-gwhff50a\\lib\\mixins.py\n",
      "  Moving to c:\\users\\freecomp\\anaconda3\\lib\\site-packages\\numpy\\lib\\nanfunctions.py\n",
      "   from C:\\Users\\FreeComp\\AppData\\Local\\Temp\\pip-uninstall-gwhff50a\\lib\\nanfunctions.py\n",
      "  Moving to c:\\users\\freecomp\\anaconda3\\lib\\site-packages\\numpy\\lib\\npyio.py\n",
      "   from C:\\Users\\FreeComp\\AppData\\Local\\Temp\\pip-uninstall-gwhff50a\\lib\\npyio.py\n",
      "  Moving to c:\\users\\freecomp\\anaconda3\\lib\\site-packages\\numpy\\lib\\polynomial.py\n",
      "   from C:\\Users\\FreeComp\\AppData\\Local\\Temp\\pip-uninstall-gwhff50a\\lib\\polynomial.py\n",
      "  Moving to c:\\users\\freecomp\\anaconda3\\lib\\site-packages\\numpy\\lib\\recfunctions.py\n",
      "   from C:\\Users\\FreeComp\\AppData\\Local\\Temp\\pip-uninstall-gwhff50a\\lib\\recfunctions.py\n",
      "  Moving to c:\\users\\freecomp\\anaconda3\\lib\\site-packages\\numpy\\lib\\scimath.py\n",
      "   from C:\\Users\\FreeComp\\AppData\\Local\\Temp\\pip-uninstall-gwhff50a\\lib\\scimath.py\n",
      "  Moving to c:\\users\\freecomp\\anaconda3\\lib\\site-packages\\numpy\\lib\\setup.py\n",
      "   from C:\\Users\\FreeComp\\AppData\\Local\\Temp\\pip-uninstall-gwhff50a\\lib\\setup.py\n",
      "  Moving to c:\\users\\freecomp\\anaconda3\\lib\\site-packages\\numpy\\lib\\shape_base.py\n",
      "   from C:\\Users\\FreeComp\\AppData\\Local\\Temp\\pip-uninstall-gwhff50a\\lib\\shape_base.py\n",
      "  Moving to c:\\users\\freecomp\\anaconda3\\lib\\site-packages\\numpy\\lib\\stride_tricks.py\n",
      "   from C:\\Users\\FreeComp\\AppData\\Local\\Temp\\pip-uninstall-gwhff50a\\lib\\stride_tricks.py\n",
      "  Moving to c:\\users\\freecomp\\anaconda3\\lib\\site-packages\\numpy\\lib\\tests\\__init__.py\n",
      "   from C:\\Users\\FreeComp\\AppData\\Local\\Temp\\pip-uninstall-gwhff50a\\lib\\tests\\__init__.py\n",
      "  Moving to c:\\users\\freecomp\\anaconda3\\lib\\site-packages\\numpy\\lib\\tests\\__pycache__\\__init__.cpython-37.pyc\n",
      "   from C:\\Users\\FreeComp\\AppData\\Local\\Temp\\pip-uninstall-gwhff50a\\lib\\tests\\__pycache__\\__init__.cpython-37.pyc\n",
      "  Moving to c:\\users\\freecomp\\anaconda3\\lib\\site-packages\\numpy\\lib\\tests\\__pycache__\\test__datasource.cpython-37.pyc\n",
      "   from C:\\Users\\FreeComp\\AppData\\Local\\Temp\\pip-uninstall-gwhff50a\\lib\\tests\\__pycache__\\test__datasource.cpython-37.pyc\n",
      "  Moving to c:\\users\\freecomp\\anaconda3\\lib\\site-packages\\numpy\\lib\\tests\\__pycache__\\test__iotools.cpython-37.pyc\n",
      "   from C:\\Users\\FreeComp\\AppData\\Local\\Temp\\pip-uninstall-gwhff50a\\lib\\tests\\__pycache__\\test__iotools.cpython-37.pyc\n",
      "  Moving to c:\\users\\freecomp\\anaconda3\\lib\\site-packages\\numpy\\lib\\tests\\__pycache__\\test__version.cpython-37.pyc\n",
      "   from C:\\Users\\FreeComp\\AppData\\Local\\Temp\\pip-uninstall-gwhff50a\\lib\\tests\\__pycache__\\test__version.cpython-37.pyc\n",
      "  Moving to c:\\users\\freecomp\\anaconda3\\lib\\site-packages\\numpy\\lib\\tests\\__pycache__\\test_arraypad.cpython-37.pyc\n",
      "   from C:\\Users\\FreeComp\\AppData\\Local\\Temp\\pip-uninstall-gwhff50a\\lib\\tests\\__pycache__\\test_arraypad.cpython-37.pyc\n",
      "  Moving to c:\\users\\freecomp\\anaconda3\\lib\\site-packages\\numpy\\lib\\tests\\__pycache__\\test_arraysetops.cpython-37.pyc\n",
      "   from C:\\Users\\FreeComp\\AppData\\Local\\Temp\\pip-uninstall-gwhff50a\\lib\\tests\\__pycache__\\test_arraysetops.cpython-37.pyc\n",
      "  Moving to c:\\users\\freecomp\\anaconda3\\lib\\site-packages\\numpy\\lib\\tests\\__pycache__\\test_arrayterator.cpython-37.pyc\n",
      "   from C:\\Users\\FreeComp\\AppData\\Local\\Temp\\pip-uninstall-gwhff50a\\lib\\tests\\__pycache__\\test_arrayterator.cpython-37.pyc\n",
      "  Moving to c:\\users\\freecomp\\anaconda3\\lib\\site-packages\\numpy\\lib\\tests\\__pycache__\\test_format.cpython-37.pyc\n",
      "   from C:\\Users\\FreeComp\\AppData\\Local\\Temp\\pip-uninstall-gwhff50a\\lib\\tests\\__pycache__\\test_format.cpython-37.pyc\n",
      "  Moving to c:\\users\\freecomp\\anaconda3\\lib\\site-packages\\numpy\\lib\\tests\\__pycache__\\test_function_base.cpython-37.pyc\n",
      "   from C:\\Users\\FreeComp\\AppData\\Local\\Temp\\pip-uninstall-gwhff50a\\lib\\tests\\__pycache__\\test_function_base.cpython-37.pyc\n",
      "  Moving to c:\\users\\freecomp\\anaconda3\\lib\\site-packages\\numpy\\lib\\tests\\__pycache__\\test_histograms.cpython-37.pyc\n",
      "   from C:\\Users\\FreeComp\\AppData\\Local\\Temp\\pip-uninstall-gwhff50a\\lib\\tests\\__pycache__\\test_histograms.cpython-37.pyc\n",
      "  Moving to c:\\users\\freecomp\\anaconda3\\lib\\site-packages\\numpy\\lib\\tests\\__pycache__\\test_index_tricks.cpython-37.pyc\n",
      "   from C:\\Users\\FreeComp\\AppData\\Local\\Temp\\pip-uninstall-gwhff50a\\lib\\tests\\__pycache__\\test_index_tricks.cpython-37.pyc\n",
      "  Moving to c:\\users\\freecomp\\anaconda3\\lib\\site-packages\\numpy\\lib\\tests\\__pycache__\\test_io.cpython-37.pyc\n",
      "   from C:\\Users\\FreeComp\\AppData\\Local\\Temp\\pip-uninstall-gwhff50a\\lib\\tests\\__pycache__\\test_io.cpython-37.pyc\n",
      "  Moving to c:\\users\\freecomp\\anaconda3\\lib\\site-packages\\numpy\\lib\\tests\\__pycache__\\test_mixins.cpython-37.pyc\n",
      "   from C:\\Users\\FreeComp\\AppData\\Local\\Temp\\pip-uninstall-gwhff50a\\lib\\tests\\__pycache__\\test_mixins.cpython-37.pyc\n",
      "  Moving to c:\\users\\freecomp\\anaconda3\\lib\\site-packages\\numpy\\lib\\tests\\__pycache__\\test_nanfunctions.cpython-37.pyc\n",
      "   from C:\\Users\\FreeComp\\AppData\\Local\\Temp\\pip-uninstall-gwhff50a\\lib\\tests\\__pycache__\\test_nanfunctions.cpython-37.pyc\n",
      "  Moving to c:\\users\\freecomp\\anaconda3\\lib\\site-packages\\numpy\\lib\\tests\\__pycache__\\test_packbits.cpython-37.pyc\n",
      "   from C:\\Users\\FreeComp\\AppData\\Local\\Temp\\pip-uninstall-gwhff50a\\lib\\tests\\__pycache__\\test_packbits.cpython-37.pyc\n",
      "  Moving to c:\\users\\freecomp\\anaconda3\\lib\\site-packages\\numpy\\lib\\tests\\__pycache__\\test_polynomial.cpython-37.pyc\n",
      "   from C:\\Users\\FreeComp\\AppData\\Local\\Temp\\pip-uninstall-gwhff50a\\lib\\tests\\__pycache__\\test_polynomial.cpython-37.pyc\n",
      "  Moving to c:\\users\\freecomp\\anaconda3\\lib\\site-packages\\numpy\\lib\\tests\\__pycache__\\test_recfunctions.cpython-37.pyc\n",
      "   from C:\\Users\\FreeComp\\AppData\\Local\\Temp\\pip-uninstall-gwhff50a\\lib\\tests\\__pycache__\\test_recfunctions.cpython-37.pyc\n",
      "  Moving to c:\\users\\freecomp\\anaconda3\\lib\\site-packages\\numpy\\lib\\tests\\__pycache__\\test_regression.cpython-37.pyc\n",
      "   from C:\\Users\\FreeComp\\AppData\\Local\\Temp\\pip-uninstall-gwhff50a\\lib\\tests\\__pycache__\\test_regression.cpython-37.pyc\n",
      "  Moving to c:\\users\\freecomp\\anaconda3\\lib\\site-packages\\numpy\\lib\\tests\\__pycache__\\test_shape_base.cpython-37.pyc\n",
      "   from C:\\Users\\FreeComp\\AppData\\Local\\Temp\\pip-uninstall-gwhff50a\\lib\\tests\\__pycache__\\test_shape_base.cpython-37.pyc\n",
      "  Moving to c:\\users\\freecomp\\anaconda3\\lib\\site-packages\\numpy\\lib\\tests\\__pycache__\\test_stride_tricks.cpython-37.pyc\n",
      "   from C:\\Users\\FreeComp\\AppData\\Local\\Temp\\pip-uninstall-gwhff50a\\lib\\tests\\__pycache__\\test_stride_tricks.cpython-37.pyc\n",
      "  Moving to c:\\users\\freecomp\\anaconda3\\lib\\site-packages\\numpy\\lib\\tests\\__pycache__\\test_twodim_base.cpython-37.pyc\n",
      "   from C:\\Users\\FreeComp\\AppData\\Local\\Temp\\pip-uninstall-gwhff50a\\lib\\tests\\__pycache__\\test_twodim_base.cpython-37.pyc\n",
      "  Moving to c:\\users\\freecomp\\anaconda3\\lib\\site-packages\\numpy\\lib\\tests\\__pycache__\\test_type_check.cpython-37.pyc\n",
      "   from C:\\Users\\FreeComp\\AppData\\Local\\Temp\\pip-uninstall-gwhff50a\\lib\\tests\\__pycache__\\test_type_check.cpython-37.pyc\n",
      "  Moving to c:\\users\\freecomp\\anaconda3\\lib\\site-packages\\numpy\\lib\\tests\\__pycache__\\test_ufunclike.cpython-37.pyc\n",
      "   from C:\\Users\\FreeComp\\AppData\\Local\\Temp\\pip-uninstall-gwhff50a\\lib\\tests\\__pycache__\\test_ufunclike.cpython-37.pyc\n",
      "  Moving to c:\\users\\freecomp\\anaconda3\\lib\\site-packages\\numpy\\lib\\tests\\__pycache__\\test_utils.cpython-37.pyc\n",
      "   from C:\\Users\\FreeComp\\AppData\\Local\\Temp\\pip-uninstall-gwhff50a\\lib\\tests\\__pycache__\\test_utils.cpython-37.pyc\n",
      "  Moving to c:\\users\\freecomp\\anaconda3\\lib\\site-packages\\numpy\\lib\\tests\\data\\\n",
      "   from c:\\users\\freecomp\\anaconda3\\lib\\site-packages\\numpy\\lib\\tests\\~ata\n",
      "  Moving to c:\\users\\freecomp\\anaconda3\\lib\\site-packages\\numpy\\lib\\tests\\test__datasource.py\n",
      "   from C:\\Users\\FreeComp\\AppData\\Local\\Temp\\pip-uninstall-gwhff50a\\lib\\tests\\test__datasource.py\n",
      "  Moving to c:\\users\\freecomp\\anaconda3\\lib\\site-packages\\numpy\\lib\\tests\\test__iotools.py\n",
      "   from C:\\Users\\FreeComp\\AppData\\Local\\Temp\\pip-uninstall-gwhff50a\\lib\\tests\\test__iotools.py\n",
      "  Moving to c:\\users\\freecomp\\anaconda3\\lib\\site-packages\\numpy\\lib\\tests\\test__version.py\n",
      "   from C:\\Users\\FreeComp\\AppData\\Local\\Temp\\pip-uninstall-gwhff50a\\lib\\tests\\test__version.py\n",
      "  Moving to c:\\users\\freecomp\\anaconda3\\lib\\site-packages\\numpy\\lib\\tests\\test_arraypad.py\n",
      "   from C:\\Users\\FreeComp\\AppData\\Local\\Temp\\pip-uninstall-gwhff50a\\lib\\tests\\test_arraypad.py\n",
      "  Moving to c:\\users\\freecomp\\anaconda3\\lib\\site-packages\\numpy\\lib\\tests\\test_arraysetops.py\n",
      "   from C:\\Users\\FreeComp\\AppData\\Local\\Temp\\pip-uninstall-gwhff50a\\lib\\tests\\test_arraysetops.py\n",
      "  Moving to c:\\users\\freecomp\\anaconda3\\lib\\site-packages\\numpy\\lib\\tests\\test_arrayterator.py\n",
      "   from C:\\Users\\FreeComp\\AppData\\Local\\Temp\\pip-uninstall-gwhff50a\\lib\\tests\\test_arrayterator.py\n",
      "  Moving to c:\\users\\freecomp\\anaconda3\\lib\\site-packages\\numpy\\lib\\tests\\test_format.py\n",
      "   from C:\\Users\\FreeComp\\AppData\\Local\\Temp\\pip-uninstall-gwhff50a\\lib\\tests\\test_format.py\n",
      "  Moving to c:\\users\\freecomp\\anaconda3\\lib\\site-packages\\numpy\\lib\\tests\\test_function_base.py\n",
      "   from C:\\Users\\FreeComp\\AppData\\Local\\Temp\\pip-uninstall-gwhff50a\\lib\\tests\\test_function_base.py\n",
      "  Moving to c:\\users\\freecomp\\anaconda3\\lib\\site-packages\\numpy\\lib\\tests\\test_histograms.py\n",
      "   from C:\\Users\\FreeComp\\AppData\\Local\\Temp\\pip-uninstall-gwhff50a\\lib\\tests\\test_histograms.py\n",
      "  Moving to c:\\users\\freecomp\\anaconda3\\lib\\site-packages\\numpy\\lib\\tests\\test_index_tricks.py\n",
      "   from C:\\Users\\FreeComp\\AppData\\Local\\Temp\\pip-uninstall-gwhff50a\\lib\\tests\\test_index_tricks.py\n",
      "  Moving to c:\\users\\freecomp\\anaconda3\\lib\\site-packages\\numpy\\lib\\tests\\test_io.py\n",
      "   from C:\\Users\\FreeComp\\AppData\\Local\\Temp\\pip-uninstall-gwhff50a\\lib\\tests\\test_io.py\n",
      "  Moving to c:\\users\\freecomp\\anaconda3\\lib\\site-packages\\numpy\\lib\\tests\\test_mixins.py\n",
      "   from C:\\Users\\FreeComp\\AppData\\Local\\Temp\\pip-uninstall-gwhff50a\\lib\\tests\\test_mixins.py\n",
      "  Moving to c:\\users\\freecomp\\anaconda3\\lib\\site-packages\\numpy\\lib\\tests\\test_nanfunctions.py\n",
      "   from C:\\Users\\FreeComp\\AppData\\Local\\Temp\\pip-uninstall-gwhff50a\\lib\\tests\\test_nanfunctions.py\n",
      "  Moving to c:\\users\\freecomp\\anaconda3\\lib\\site-packages\\numpy\\lib\\tests\\test_packbits.py\n",
      "   from C:\\Users\\FreeComp\\AppData\\Local\\Temp\\pip-uninstall-gwhff50a\\lib\\tests\\test_packbits.py\n",
      "  Moving to c:\\users\\freecomp\\anaconda3\\lib\\site-packages\\numpy\\lib\\tests\\test_polynomial.py\n",
      "   from C:\\Users\\FreeComp\\AppData\\Local\\Temp\\pip-uninstall-gwhff50a\\lib\\tests\\test_polynomial.py\n",
      "  Moving to c:\\users\\freecomp\\anaconda3\\lib\\site-packages\\numpy\\lib\\tests\\test_recfunctions.py\n",
      "   from C:\\Users\\FreeComp\\AppData\\Local\\Temp\\pip-uninstall-gwhff50a\\lib\\tests\\test_recfunctions.py\n",
      "  Moving to c:\\users\\freecomp\\anaconda3\\lib\\site-packages\\numpy\\lib\\tests\\test_regression.py\n",
      "   from C:\\Users\\FreeComp\\AppData\\Local\\Temp\\pip-uninstall-gwhff50a\\lib\\tests\\test_regression.py\n",
      "  Moving to c:\\users\\freecomp\\anaconda3\\lib\\site-packages\\numpy\\lib\\tests\\test_shape_base.py\n",
      "   from C:\\Users\\FreeComp\\AppData\\Local\\Temp\\pip-uninstall-gwhff50a\\lib\\tests\\test_shape_base.py\n",
      "  Moving to c:\\users\\freecomp\\anaconda3\\lib\\site-packages\\numpy\\lib\\tests\\test_stride_tricks.py\n",
      "   from C:\\Users\\FreeComp\\AppData\\Local\\Temp\\pip-uninstall-gwhff50a\\lib\\tests\\test_stride_tricks.py\n",
      "  Moving to c:\\users\\freecomp\\anaconda3\\lib\\site-packages\\numpy\\lib\\tests\\test_twodim_base.py\n",
      "   from C:\\Users\\FreeComp\\AppData\\Local\\Temp\\pip-uninstall-gwhff50a\\lib\\tests\\test_twodim_base.py\n",
      "  Moving to c:\\users\\freecomp\\anaconda3\\lib\\site-packages\\numpy\\lib\\tests\\test_type_check.py\n",
      "   from C:\\Users\\FreeComp\\AppData\\Local\\Temp\\pip-uninstall-gwhff50a\\lib\\tests\\test_type_check.py\n",
      "  Moving to c:\\users\\freecomp\\anaconda3\\lib\\site-packages\\numpy\\lib\\tests\\test_ufunclike.py\n",
      "   from C:\\Users\\FreeComp\\AppData\\Local\\Temp\\pip-uninstall-gwhff50a\\lib\\tests\\test_ufunclike.py\n",
      "  Moving to c:\\users\\freecomp\\anaconda3\\lib\\site-packages\\numpy\\lib\\tests\\test_utils.py\n",
      "   from C:\\Users\\FreeComp\\AppData\\Local\\Temp\\pip-uninstall-gwhff50a\\lib\\tests\\test_utils.py\n",
      "  Moving to c:\\users\\freecomp\\anaconda3\\lib\\site-packages\\numpy\\lib\\twodim_base.py\n",
      "   from C:\\Users\\FreeComp\\AppData\\Local\\Temp\\pip-uninstall-gwhff50a\\lib\\twodim_base.py\n",
      "  Moving to c:\\users\\freecomp\\anaconda3\\lib\\site-packages\\numpy\\lib\\type_check.py\n",
      "   from C:\\Users\\FreeComp\\AppData\\Local\\Temp\\pip-uninstall-gwhff50a\\lib\\type_check.py\n",
      "  Moving to c:\\users\\freecomp\\anaconda3\\lib\\site-packages\\numpy\\lib\\ufunclike.py\n",
      "   from C:\\Users\\FreeComp\\AppData\\Local\\Temp\\pip-uninstall-gwhff50a\\lib\\ufunclike.py\n",
      "  Moving to c:\\users\\freecomp\\anaconda3\\lib\\site-packages\\numpy\\lib\\user_array.py\n",
      "   from C:\\Users\\FreeComp\\AppData\\Local\\Temp\\pip-uninstall-gwhff50a\\lib\\user_array.py\n",
      "  Moving to c:\\users\\freecomp\\anaconda3\\lib\\site-packages\\numpy\\lib\\utils.py\n",
      "   from C:\\Users\\FreeComp\\AppData\\Local\\Temp\\pip-uninstall-gwhff50a\\lib\\utils.py\n",
      "  Moving to c:\\users\\freecomp\\anaconda3\\lib\\site-packages\\numpy\\license.txt\n",
      "   from C:\\Users\\FreeComp\\AppData\\Local\\Temp\\pip-uninstall-gwhff50a\\license.txt\n",
      "  Moving to c:\\users\\freecomp\\anaconda3\\lib\\site-packages\\numpy\\linalg\\\n",
      "   from c:\\users\\freecomp\\anaconda3\\lib\\site-packages\\numpy\\~inalg\n",
      "  Moving to c:\\users\\freecomp\\anaconda3\\lib\\site-packages\\numpy\\ma\\\n",
      "   from c:\\users\\freecomp\\anaconda3\\lib\\site-packages\\numpy\\~a\n",
      "  Moving to c:\\users\\freecomp\\anaconda3\\lib\\site-packages\\numpy\\matlib.py\n",
      "   from C:\\Users\\FreeComp\\AppData\\Local\\Temp\\pip-uninstall-gwhff50a\\matlib.py\n",
      "  Moving to c:\\users\\freecomp\\anaconda3\\lib\\site-packages\\numpy\\matrixlib\\\n",
      "   from c:\\users\\freecomp\\anaconda3\\lib\\site-packages\\numpy\\~atrixlib\n",
      "  Moving to c:\\users\\freecomp\\anaconda3\\lib\\site-packages\\numpy\\polynomial\\\n",
      "   from c:\\users\\freecomp\\anaconda3\\lib\\site-packages\\numpy\\~olynomial\n",
      "  Moving to c:\\users\\freecomp\\anaconda3\\lib\\site-packages\\numpy\\random\\\n",
      "   from c:\\users\\freecomp\\anaconda3\\lib\\site-packages\\numpy\\~andom\n",
      "  Moving to c:\\users\\freecomp\\anaconda3\\lib\\site-packages\\numpy\\rec.pyi\n",
      "   from C:\\Users\\FreeComp\\AppData\\Local\\Temp\\pip-uninstall-gwhff50a\\rec.pyi\n",
      "  Moving to c:\\users\\freecomp\\anaconda3\\lib\\site-packages\\numpy\\setup.py\n",
      "   from C:\\Users\\FreeComp\\AppData\\Local\\Temp\\pip-uninstall-gwhff50a\\setup.py\n",
      "  Moving to c:\\users\\freecomp\\anaconda3\\lib\\site-packages\\numpy\\testing\\__init__.py\n",
      "   from C:\\Users\\FreeComp\\AppData\\Local\\Temp\\pip-uninstall-gwhff50a\\testing\\__init__.py\n",
      "  Moving to c:\\users\\freecomp\\anaconda3\\lib\\site-packages\\numpy\\testing\\__pycache__\\\n",
      "   from c:\\users\\freecomp\\anaconda3\\lib\\site-packages\\numpy\\testing\\~_pycache__\n",
      "  Moving to c:\\users\\freecomp\\anaconda3\\lib\\site-packages\\numpy\\testing\\_private\\\n",
      "   from c:\\users\\freecomp\\anaconda3\\lib\\site-packages\\numpy\\testing\\~private\n",
      "  Moving to c:\\users\\freecomp\\anaconda3\\lib\\site-packages\\numpy\\testing\\print_coercion_tables.py\n",
      "   from C:\\Users\\FreeComp\\AppData\\Local\\Temp\\pip-uninstall-gwhff50a\\testing\\print_coercion_tables.py\n",
      "  Moving to c:\\users\\freecomp\\anaconda3\\lib\\site-packages\\numpy\\testing\\setup.py\n",
      "   from C:\\Users\\FreeComp\\AppData\\Local\\Temp\\pip-uninstall-gwhff50a\\testing\\setup.py\n",
      "  Moving to c:\\users\\freecomp\\anaconda3\\lib\\site-packages\\numpy\\testing\\tests\\__init__.py\n",
      "   from C:\\Users\\FreeComp\\AppData\\Local\\Temp\\pip-uninstall-gwhff50a\\testing\\tests\\__init__.py\n",
      "  Moving to c:\\users\\freecomp\\anaconda3\\lib\\site-packages\\numpy\\testing\\tests\\__pycache__\\__init__.cpython-37.pyc\n",
      "   from C:\\Users\\FreeComp\\AppData\\Local\\Temp\\pip-uninstall-gwhff50a\\testing\\tests\\__pycache__\\__init__.cpython-37.pyc\n",
      "  Moving to c:\\users\\freecomp\\anaconda3\\lib\\site-packages\\numpy\\testing\\tests\\__pycache__\\test_doctesting.cpython-37.pyc\n",
      "   from C:\\Users\\FreeComp\\AppData\\Local\\Temp\\pip-uninstall-gwhff50a\\testing\\tests\\__pycache__\\test_doctesting.cpython-37.pyc\n",
      "  Moving to c:\\users\\freecomp\\anaconda3\\lib\\site-packages\\numpy\\testing\\tests\\__pycache__\\test_utils.cpython-37.pyc\n",
      "   from C:\\Users\\FreeComp\\AppData\\Local\\Temp\\pip-uninstall-gwhff50a\\testing\\tests\\__pycache__\\test_utils.cpython-37.pyc\n",
      "  Moving to c:\\users\\freecomp\\anaconda3\\lib\\site-packages\\numpy\\testing\\tests\\test_doctesting.py\n",
      "   from C:\\Users\\FreeComp\\AppData\\Local\\Temp\\pip-uninstall-gwhff50a\\testing\\tests\\test_doctesting.py\n",
      "  Moving to c:\\users\\freecomp\\anaconda3\\lib\\site-packages\\numpy\\testing\\tests\\test_utils.py\n",
      "   from C:\\Users\\FreeComp\\AppData\\Local\\Temp\\pip-uninstall-gwhff50a\\testing\\tests\\test_utils.py\n",
      "  Moving to c:\\users\\freecomp\\anaconda3\\lib\\site-packages\\numpy\\testing\\utils.py\n",
      "   from C:\\Users\\FreeComp\\AppData\\Local\\Temp\\pip-uninstall-gwhff50a\\testing\\utils.py\n",
      "  Moving to c:\\users\\freecomp\\anaconda3\\lib\\site-packages\\numpy\\tests\\\n",
      "   from c:\\users\\freecomp\\anaconda3\\lib\\site-packages\\numpy\\~ests\n",
      "  Moving to c:\\users\\freecomp\\anaconda3\\lib\\site-packages\\numpy\\typing\\\n",
      "   from c:\\users\\freecomp\\anaconda3\\lib\\site-packages\\numpy\\~yping\n",
      "  Moving to c:\\users\\freecomp\\anaconda3\\lib\\site-packages\\numpy\\version.py\n",
      "   from C:\\Users\\FreeComp\\AppData\\Local\\Temp\\pip-uninstall-gwhff50a\\version.py\n",
      "  Moving to c:\\users\\freecomp\\anaconda3\\scripts\\f2py.exe\n",
      "   from C:\\Users\\FreeComp\\AppData\\Local\\Temp\\pip-uninstall-oizepey5\\f2py.exe\n"
     ]
    },
    {
     "name": "stderr",
     "output_type": "stream",
     "text": [
      "ERROR: Could not install packages due to an OSError: [WinError 5] Access is denied: 'C:\\\\Users\\\\FreeComp\\\\anaconda3\\\\Lib\\\\site-packages\\\\numpy\\\\.libs\\\\libopenblas.WCDJNK7YVMPZQ2ME2ZZHJJRJ3JIKNDB7.gfortran-win_amd64.dll'\n",
      "Consider using the `--user` option or check the permissions.\n",
      "\n"
     ]
    }
   ],
   "source": [
    "!pip install tensorflow==2.4.1 tensorflow-gpu==2.4.1 opencv-python matplotlib"
   ]
  },
  {
   "cell_type": "markdown",
   "metadata": {},
   "source": [
    "## 1.2 Import Dependencies"
   ]
  },
  {
   "cell_type": "code",
   "execution_count": 4,
   "metadata": {},
   "outputs": [],
   "source": [
    "# Import standard dependencies\n",
    "import cv2\n",
    "import os\n",
    "import random\n",
    "import numpy as np\n",
    "from matplotlib import pyplot as plt"
   ]
  },
  {
   "cell_type": "code",
   "execution_count": 5,
   "metadata": {},
   "outputs": [],
   "source": [
    "# Import tensorflow dependencies - Functional API\n",
    "from tensorflow.keras.models import Model\n",
    "from tensorflow.keras.layers import Layer, Conv2D, Dense, MaxPooling2D, Input, Flatten\n",
    "import tensorflow as tf"
   ]
  },
  {
   "cell_type": "markdown",
   "metadata": {},
   "source": [
    "## 1.3 Set GPU Growth"
   ]
  },
  {
   "cell_type": "code",
   "execution_count": 6,
   "metadata": {},
   "outputs": [],
   "source": [
    "# Avoid OOM errors by setting GPU Memory Consumption Growth\n",
    "gpus = tf.config.experimental.list_physical_devices('GPU')\n",
    "for gpu in gpus: \n",
    "    tf.config.experimental.set_memory_growth(gpu, True)"
   ]
  },
  {
   "cell_type": "markdown",
   "metadata": {},
   "source": [
    "## 1.4 Create Folder Structures"
   ]
  },
  {
   "cell_type": "code",
   "execution_count": 7,
   "metadata": {},
   "outputs": [],
   "source": [
    "# Setup paths\n",
    "POS_PATH = os.path.join('data', 'positive')\n",
    "NEG_PATH = os.path.join('data', 'negative')\n",
    "ANC_PATH = os.path.join('data', 'anchor')"
   ]
  },
  {
   "cell_type": "code",
   "execution_count": 8,
   "metadata": {},
   "outputs": [],
   "source": [
    "# Make the directories\n",
    "os.makedirs(POS_PATH)\n",
    "os.makedirs(NEG_PATH)\n",
    "os.makedirs(ANC_PATH)"
   ]
  },
  {
   "cell_type": "markdown",
   "metadata": {},
   "source": [
    "# 2. Collect Positives and Anchors"
   ]
  },
  {
   "cell_type": "markdown",
   "metadata": {},
   "source": [
    "## 2.1 Untar Labelled Faces in the Wild Dataset"
   ]
  },
  {
   "cell_type": "code",
   "execution_count": null,
   "metadata": {},
   "outputs": [],
   "source": [
    "# http://vis-www.cs.umass.edu/lfw/"
   ]
  },
  {
   "cell_type": "code",
   "execution_count": 10,
   "metadata": {},
   "outputs": [],
   "source": [
    "# Uncompress Tar GZ Labelled Faces in the Wild Dataset\n",
    "!tar -xf lfw.tgz"
   ]
  },
  {
   "cell_type": "code",
   "execution_count": 11,
   "metadata": {},
   "outputs": [],
   "source": [
    "# Move LFW Images to the following repository data/negative\n",
    "for directory in os.listdir('lfw'):\n",
    "    for file in os.listdir(os.path.join('lfw', directory)):\n",
    "        EX_PATH = os.path.join('lfw', directory, file)\n",
    "        NEW_PATH = os.path.join(NEG_PATH, file)\n",
    "        os.replace(EX_PATH, NEW_PATH)"
   ]
  },
  {
   "cell_type": "markdown",
   "metadata": {},
   "source": [
    "## 2.2 Collect Positive and Anchor Classes"
   ]
  },
  {
   "cell_type": "code",
   "execution_count": 12,
   "metadata": {},
   "outputs": [],
   "source": [
    "# Import uuid library to generate unique image names\n",
    "import uuid"
   ]
  },
  {
   "cell_type": "code",
   "execution_count": null,
   "metadata": {},
   "outputs": [],
   "source": [
    "os.path.join(ANC_PATH, '{}.jpg'.format(uuid.uuid1()))"
   ]
  },
  {
   "cell_type": "code",
   "execution_count": 13,
   "metadata": {},
   "outputs": [],
   "source": [
    "# Establish a connection to the webcam\n",
    "cap = cv2.VideoCapture(0)\n",
    "while cap.isOpened(): \n",
    "    ret, frame = cap.read()\n",
    "   \n",
    "    # Cut down frame to 250x250px\n",
    "    frame = frame[120:120+250,200:200+250, :]\n",
    "    \n",
    "    # Collect anchors \n",
    "    if cv2.waitKey(1) & 0XFF == ord('a'):\n",
    "        # Create the unique file path \n",
    "        imgname = os.path.join(ANC_PATH, '{}.jpg'.format(uuid.uuid1()))\n",
    "        # Write out anchor image\n",
    "        cv2.imwrite(imgname, frame)\n",
    "    \n",
    "    # Collect positives\n",
    "    if cv2.waitKey(1) & 0XFF == ord('p'):\n",
    "        # Create the unique file path \n",
    "        imgname = os.path.join(POS_PATH, '{}.jpg'.format(uuid.uuid1()))\n",
    "        # Write out positive image\n",
    "        cv2.imwrite(imgname, frame)\n",
    "    \n",
    "    # Show image back to screen\n",
    "    cv2.imshow('Image Collection', frame)\n",
    "    \n",
    "    # Breaking gracefully\n",
    "    if cv2.waitKey(1) & 0XFF == ord('q'):\n",
    "        break\n",
    "        \n",
    "# Release the webcam\n",
    "cap.release()\n",
    "# Close the image show frame\n",
    "cv2.destroyAllWindows()"
   ]
  },
  {
   "cell_type": "code",
   "execution_count": null,
   "metadata": {},
   "outputs": [],
   "source": [
    "plt.imshow(frame[120:120+250,200:200+250, :])"
   ]
  },
  {
   "cell_type": "markdown",
   "metadata": {},
   "source": [
    "# 2.x NEW - Data Augmentation"
   ]
  },
  {
   "cell_type": "code",
   "execution_count": 14,
   "metadata": {},
   "outputs": [],
   "source": [
    "def data_aug(img):\n",
    "    data = []\n",
    "    for i in range(9):\n",
    "        img = tf.image.stateless_random_brightness(img, max_delta=0.02, seed=(1,2))\n",
    "        img = tf.image.stateless_random_contrast(img, lower=0.6, upper=1, seed=(1,3))\n",
    "        # img = tf.image.stateless_random_crop(img, size=(20,20,3), seed=(1,2))\n",
    "        img = tf.image.stateless_random_flip_left_right(img, seed=(np.random.randint(100),np.random.randint(100)))\n",
    "        img = tf.image.stateless_random_jpeg_quality(img, min_jpeg_quality=90, max_jpeg_quality=100, seed=(np.random.randint(100),np.random.randint(100)))\n",
    "        img = tf.image.stateless_random_saturation(img, lower=0.9,upper=1, seed=(np.random.randint(100),np.random.randint(100)))\n",
    "            \n",
    "        data.append(img)\n",
    "    \n",
    "    return data"
   ]
  },
  {
   "cell_type": "code",
   "execution_count": 15,
   "metadata": {},
   "outputs": [],
   "source": [
    "import os\n",
    "import uuid"
   ]
  },
  {
   "cell_type": "code",
   "execution_count": 16,
   "metadata": {},
   "outputs": [
    {
     "ename": "ValueError",
     "evalue": "Attempt to convert a value (None) with an unsupported type (<class 'NoneType'>) to a Tensor.",
     "output_type": "error",
     "traceback": [
      "\u001b[1;31m---------------------------------------------------------------------------\u001b[0m",
      "\u001b[1;31mValueError\u001b[0m                                Traceback (most recent call last)",
      "\u001b[1;32m~\\AppData\\Local\\Temp\\ipykernel_7760\\2761302930.py\u001b[0m in \u001b[0;36m<module>\u001b[1;34m\u001b[0m\n\u001b[0;32m      1\u001b[0m \u001b[0mimg_path\u001b[0m \u001b[1;33m=\u001b[0m \u001b[0mos\u001b[0m\u001b[1;33m.\u001b[0m\u001b[0mpath\u001b[0m\u001b[1;33m.\u001b[0m\u001b[0mjoin\u001b[0m\u001b[1;33m(\u001b[0m\u001b[0mANC_PATH\u001b[0m\u001b[1;33m,\u001b[0m \u001b[1;34m'924e839c-135f-11ec-b54e-a0cec8d2d278.jpg'\u001b[0m\u001b[1;33m)\u001b[0m\u001b[1;33m\u001b[0m\u001b[1;33m\u001b[0m\u001b[0m\n\u001b[0;32m      2\u001b[0m \u001b[0mimg\u001b[0m \u001b[1;33m=\u001b[0m \u001b[0mcv2\u001b[0m\u001b[1;33m.\u001b[0m\u001b[0mimread\u001b[0m\u001b[1;33m(\u001b[0m\u001b[0mimg_path\u001b[0m\u001b[1;33m)\u001b[0m\u001b[1;33m\u001b[0m\u001b[1;33m\u001b[0m\u001b[0m\n\u001b[1;32m----> 3\u001b[1;33m \u001b[0maugmented_images\u001b[0m \u001b[1;33m=\u001b[0m \u001b[0mdata_aug\u001b[0m\u001b[1;33m(\u001b[0m\u001b[0mimg\u001b[0m\u001b[1;33m)\u001b[0m\u001b[1;33m\u001b[0m\u001b[1;33m\u001b[0m\u001b[0m\n\u001b[0m\u001b[0;32m      4\u001b[0m \u001b[1;33m\u001b[0m\u001b[0m\n\u001b[0;32m      5\u001b[0m \u001b[1;32mfor\u001b[0m \u001b[0mimage\u001b[0m \u001b[1;32min\u001b[0m \u001b[0maugmented_images\u001b[0m\u001b[1;33m:\u001b[0m\u001b[1;33m\u001b[0m\u001b[1;33m\u001b[0m\u001b[0m\n",
      "\u001b[1;32m~\\AppData\\Local\\Temp\\ipykernel_7760\\271368338.py\u001b[0m in \u001b[0;36mdata_aug\u001b[1;34m(img)\u001b[0m\n\u001b[0;32m      2\u001b[0m     \u001b[0mdata\u001b[0m \u001b[1;33m=\u001b[0m \u001b[1;33m[\u001b[0m\u001b[1;33m]\u001b[0m\u001b[1;33m\u001b[0m\u001b[1;33m\u001b[0m\u001b[0m\n\u001b[0;32m      3\u001b[0m     \u001b[1;32mfor\u001b[0m \u001b[0mi\u001b[0m \u001b[1;32min\u001b[0m \u001b[0mrange\u001b[0m\u001b[1;33m(\u001b[0m\u001b[1;36m9\u001b[0m\u001b[1;33m)\u001b[0m\u001b[1;33m:\u001b[0m\u001b[1;33m\u001b[0m\u001b[1;33m\u001b[0m\u001b[0m\n\u001b[1;32m----> 4\u001b[1;33m         \u001b[0mimg\u001b[0m \u001b[1;33m=\u001b[0m \u001b[0mtf\u001b[0m\u001b[1;33m.\u001b[0m\u001b[0mimage\u001b[0m\u001b[1;33m.\u001b[0m\u001b[0mstateless_random_brightness\u001b[0m\u001b[1;33m(\u001b[0m\u001b[0mimg\u001b[0m\u001b[1;33m,\u001b[0m \u001b[0mmax_delta\u001b[0m\u001b[1;33m=\u001b[0m\u001b[1;36m0.02\u001b[0m\u001b[1;33m,\u001b[0m \u001b[0mseed\u001b[0m\u001b[1;33m=\u001b[0m\u001b[1;33m(\u001b[0m\u001b[1;36m1\u001b[0m\u001b[1;33m,\u001b[0m\u001b[1;36m2\u001b[0m\u001b[1;33m)\u001b[0m\u001b[1;33m)\u001b[0m\u001b[1;33m\u001b[0m\u001b[1;33m\u001b[0m\u001b[0m\n\u001b[0m\u001b[0;32m      5\u001b[0m         \u001b[0mimg\u001b[0m \u001b[1;33m=\u001b[0m \u001b[0mtf\u001b[0m\u001b[1;33m.\u001b[0m\u001b[0mimage\u001b[0m\u001b[1;33m.\u001b[0m\u001b[0mstateless_random_contrast\u001b[0m\u001b[1;33m(\u001b[0m\u001b[0mimg\u001b[0m\u001b[1;33m,\u001b[0m \u001b[0mlower\u001b[0m\u001b[1;33m=\u001b[0m\u001b[1;36m0.6\u001b[0m\u001b[1;33m,\u001b[0m \u001b[0mupper\u001b[0m\u001b[1;33m=\u001b[0m\u001b[1;36m1\u001b[0m\u001b[1;33m,\u001b[0m \u001b[0mseed\u001b[0m\u001b[1;33m=\u001b[0m\u001b[1;33m(\u001b[0m\u001b[1;36m1\u001b[0m\u001b[1;33m,\u001b[0m\u001b[1;36m3\u001b[0m\u001b[1;33m)\u001b[0m\u001b[1;33m)\u001b[0m\u001b[1;33m\u001b[0m\u001b[1;33m\u001b[0m\u001b[0m\n\u001b[0;32m      6\u001b[0m         \u001b[1;31m# img = tf.image.stateless_random_crop(img, size=(20,20,3), seed=(1,2))\u001b[0m\u001b[1;33m\u001b[0m\u001b[1;33m\u001b[0m\u001b[1;33m\u001b[0m\u001b[0m\n",
      "\u001b[1;32m~\\anaconda3\\lib\\site-packages\\tensorflow\\python\\util\\dispatch.py\u001b[0m in \u001b[0;36mwrapper\u001b[1;34m(*args, **kwargs)\u001b[0m\n\u001b[0;32m    199\u001b[0m     \u001b[1;34m\"\"\"Call target, and fall back on dispatchers if there is a TypeError.\"\"\"\u001b[0m\u001b[1;33m\u001b[0m\u001b[1;33m\u001b[0m\u001b[0m\n\u001b[0;32m    200\u001b[0m     \u001b[1;32mtry\u001b[0m\u001b[1;33m:\u001b[0m\u001b[1;33m\u001b[0m\u001b[1;33m\u001b[0m\u001b[0m\n\u001b[1;32m--> 201\u001b[1;33m       \u001b[1;32mreturn\u001b[0m \u001b[0mtarget\u001b[0m\u001b[1;33m(\u001b[0m\u001b[1;33m*\u001b[0m\u001b[0margs\u001b[0m\u001b[1;33m,\u001b[0m \u001b[1;33m**\u001b[0m\u001b[0mkwargs\u001b[0m\u001b[1;33m)\u001b[0m\u001b[1;33m\u001b[0m\u001b[1;33m\u001b[0m\u001b[0m\n\u001b[0m\u001b[0;32m    202\u001b[0m     \u001b[1;32mexcept\u001b[0m \u001b[1;33m(\u001b[0m\u001b[0mTypeError\u001b[0m\u001b[1;33m,\u001b[0m \u001b[0mValueError\u001b[0m\u001b[1;33m)\u001b[0m\u001b[1;33m:\u001b[0m\u001b[1;33m\u001b[0m\u001b[1;33m\u001b[0m\u001b[0m\n\u001b[0;32m    203\u001b[0m       \u001b[1;31m# Note: convert_to_eager_tensor currently raises a ValueError, not a\u001b[0m\u001b[1;33m\u001b[0m\u001b[1;33m\u001b[0m\u001b[1;33m\u001b[0m\u001b[0m\n",
      "\u001b[1;32m~\\anaconda3\\lib\\site-packages\\tensorflow\\python\\ops\\image_ops_impl.py\u001b[0m in \u001b[0;36mstateless_random_brightness\u001b[1;34m(image, max_delta, seed)\u001b[0m\n\u001b[0;32m   1932\u001b[0m   delta = stateless_random_ops.stateless_random_uniform(\n\u001b[0;32m   1933\u001b[0m       shape=[], minval=-max_delta, maxval=max_delta, seed=seed)\n\u001b[1;32m-> 1934\u001b[1;33m   \u001b[1;32mreturn\u001b[0m \u001b[0madjust_brightness\u001b[0m\u001b[1;33m(\u001b[0m\u001b[0mimage\u001b[0m\u001b[1;33m,\u001b[0m \u001b[0mdelta\u001b[0m\u001b[1;33m)\u001b[0m\u001b[1;33m\u001b[0m\u001b[1;33m\u001b[0m\u001b[0m\n\u001b[0m\u001b[0;32m   1935\u001b[0m \u001b[1;33m\u001b[0m\u001b[0m\n\u001b[0;32m   1936\u001b[0m \u001b[1;33m\u001b[0m\u001b[0m\n",
      "\u001b[1;32m~\\anaconda3\\lib\\site-packages\\tensorflow\\python\\util\\dispatch.py\u001b[0m in \u001b[0;36mwrapper\u001b[1;34m(*args, **kwargs)\u001b[0m\n\u001b[0;32m    199\u001b[0m     \u001b[1;34m\"\"\"Call target, and fall back on dispatchers if there is a TypeError.\"\"\"\u001b[0m\u001b[1;33m\u001b[0m\u001b[1;33m\u001b[0m\u001b[0m\n\u001b[0;32m    200\u001b[0m     \u001b[1;32mtry\u001b[0m\u001b[1;33m:\u001b[0m\u001b[1;33m\u001b[0m\u001b[1;33m\u001b[0m\u001b[0m\n\u001b[1;32m--> 201\u001b[1;33m       \u001b[1;32mreturn\u001b[0m \u001b[0mtarget\u001b[0m\u001b[1;33m(\u001b[0m\u001b[1;33m*\u001b[0m\u001b[0margs\u001b[0m\u001b[1;33m,\u001b[0m \u001b[1;33m**\u001b[0m\u001b[0mkwargs\u001b[0m\u001b[1;33m)\u001b[0m\u001b[1;33m\u001b[0m\u001b[1;33m\u001b[0m\u001b[0m\n\u001b[0m\u001b[0;32m    202\u001b[0m     \u001b[1;32mexcept\u001b[0m \u001b[1;33m(\u001b[0m\u001b[0mTypeError\u001b[0m\u001b[1;33m,\u001b[0m \u001b[0mValueError\u001b[0m\u001b[1;33m)\u001b[0m\u001b[1;33m:\u001b[0m\u001b[1;33m\u001b[0m\u001b[1;33m\u001b[0m\u001b[0m\n\u001b[0;32m    203\u001b[0m       \u001b[1;31m# Note: convert_to_eager_tensor currently raises a ValueError, not a\u001b[0m\u001b[1;33m\u001b[0m\u001b[1;33m\u001b[0m\u001b[1;33m\u001b[0m\u001b[0m\n",
      "\u001b[1;32m~\\anaconda3\\lib\\site-packages\\tensorflow\\python\\ops\\image_ops_impl.py\u001b[0m in \u001b[0;36madjust_brightness\u001b[1;34m(image, delta)\u001b[0m\n\u001b[0;32m   2059\u001b[0m   \"\"\"\n\u001b[0;32m   2060\u001b[0m   \u001b[1;32mwith\u001b[0m \u001b[0mops\u001b[0m\u001b[1;33m.\u001b[0m\u001b[0mname_scope\u001b[0m\u001b[1;33m(\u001b[0m\u001b[1;32mNone\u001b[0m\u001b[1;33m,\u001b[0m \u001b[1;34m'adjust_brightness'\u001b[0m\u001b[1;33m,\u001b[0m \u001b[1;33m[\u001b[0m\u001b[0mimage\u001b[0m\u001b[1;33m,\u001b[0m \u001b[0mdelta\u001b[0m\u001b[1;33m]\u001b[0m\u001b[1;33m)\u001b[0m \u001b[1;32mas\u001b[0m \u001b[0mname\u001b[0m\u001b[1;33m:\u001b[0m\u001b[1;33m\u001b[0m\u001b[1;33m\u001b[0m\u001b[0m\n\u001b[1;32m-> 2061\u001b[1;33m     \u001b[0mimage\u001b[0m \u001b[1;33m=\u001b[0m \u001b[0mops\u001b[0m\u001b[1;33m.\u001b[0m\u001b[0mconvert_to_tensor\u001b[0m\u001b[1;33m(\u001b[0m\u001b[0mimage\u001b[0m\u001b[1;33m,\u001b[0m \u001b[0mname\u001b[0m\u001b[1;33m=\u001b[0m\u001b[1;34m'image'\u001b[0m\u001b[1;33m)\u001b[0m\u001b[1;33m\u001b[0m\u001b[1;33m\u001b[0m\u001b[0m\n\u001b[0m\u001b[0;32m   2062\u001b[0m     \u001b[1;31m# Remember original dtype to so we can convert back if needed\u001b[0m\u001b[1;33m\u001b[0m\u001b[1;33m\u001b[0m\u001b[1;33m\u001b[0m\u001b[0m\n\u001b[0;32m   2063\u001b[0m     \u001b[0morig_dtype\u001b[0m \u001b[1;33m=\u001b[0m \u001b[0mimage\u001b[0m\u001b[1;33m.\u001b[0m\u001b[0mdtype\u001b[0m\u001b[1;33m\u001b[0m\u001b[1;33m\u001b[0m\u001b[0m\n",
      "\u001b[1;32m~\\anaconda3\\lib\\site-packages\\tensorflow\\python\\profiler\\trace.py\u001b[0m in \u001b[0;36mwrapped\u001b[1;34m(*args, **kwargs)\u001b[0m\n\u001b[0;32m    161\u001b[0m         \u001b[1;32mwith\u001b[0m \u001b[0mTrace\u001b[0m\u001b[1;33m(\u001b[0m\u001b[0mtrace_name\u001b[0m\u001b[1;33m,\u001b[0m \u001b[1;33m**\u001b[0m\u001b[0mtrace_kwargs\u001b[0m\u001b[1;33m)\u001b[0m\u001b[1;33m:\u001b[0m\u001b[1;33m\u001b[0m\u001b[1;33m\u001b[0m\u001b[0m\n\u001b[0;32m    162\u001b[0m           \u001b[1;32mreturn\u001b[0m \u001b[0mfunc\u001b[0m\u001b[1;33m(\u001b[0m\u001b[1;33m*\u001b[0m\u001b[0margs\u001b[0m\u001b[1;33m,\u001b[0m \u001b[1;33m**\u001b[0m\u001b[0mkwargs\u001b[0m\u001b[1;33m)\u001b[0m\u001b[1;33m\u001b[0m\u001b[1;33m\u001b[0m\u001b[0m\n\u001b[1;32m--> 163\u001b[1;33m       \u001b[1;32mreturn\u001b[0m \u001b[0mfunc\u001b[0m\u001b[1;33m(\u001b[0m\u001b[1;33m*\u001b[0m\u001b[0margs\u001b[0m\u001b[1;33m,\u001b[0m \u001b[1;33m**\u001b[0m\u001b[0mkwargs\u001b[0m\u001b[1;33m)\u001b[0m\u001b[1;33m\u001b[0m\u001b[1;33m\u001b[0m\u001b[0m\n\u001b[0m\u001b[0;32m    164\u001b[0m \u001b[1;33m\u001b[0m\u001b[0m\n\u001b[0;32m    165\u001b[0m     \u001b[1;32mreturn\u001b[0m \u001b[0mwrapped\u001b[0m\u001b[1;33m\u001b[0m\u001b[1;33m\u001b[0m\u001b[0m\n",
      "\u001b[1;32m~\\anaconda3\\lib\\site-packages\\tensorflow\\python\\framework\\ops.py\u001b[0m in \u001b[0;36mconvert_to_tensor\u001b[1;34m(value, dtype, name, as_ref, preferred_dtype, dtype_hint, ctx, accepted_result_types)\u001b[0m\n\u001b[0;32m   1538\u001b[0m \u001b[1;33m\u001b[0m\u001b[0m\n\u001b[0;32m   1539\u001b[0m     \u001b[1;32mif\u001b[0m \u001b[0mret\u001b[0m \u001b[1;32mis\u001b[0m \u001b[1;32mNone\u001b[0m\u001b[1;33m:\u001b[0m\u001b[1;33m\u001b[0m\u001b[1;33m\u001b[0m\u001b[0m\n\u001b[1;32m-> 1540\u001b[1;33m       \u001b[0mret\u001b[0m \u001b[1;33m=\u001b[0m \u001b[0mconversion_func\u001b[0m\u001b[1;33m(\u001b[0m\u001b[0mvalue\u001b[0m\u001b[1;33m,\u001b[0m \u001b[0mdtype\u001b[0m\u001b[1;33m=\u001b[0m\u001b[0mdtype\u001b[0m\u001b[1;33m,\u001b[0m \u001b[0mname\u001b[0m\u001b[1;33m=\u001b[0m\u001b[0mname\u001b[0m\u001b[1;33m,\u001b[0m \u001b[0mas_ref\u001b[0m\u001b[1;33m=\u001b[0m\u001b[0mas_ref\u001b[0m\u001b[1;33m)\u001b[0m\u001b[1;33m\u001b[0m\u001b[1;33m\u001b[0m\u001b[0m\n\u001b[0m\u001b[0;32m   1541\u001b[0m \u001b[1;33m\u001b[0m\u001b[0m\n\u001b[0;32m   1542\u001b[0m     \u001b[1;32mif\u001b[0m \u001b[0mret\u001b[0m \u001b[1;32mis\u001b[0m \u001b[0mNotImplemented\u001b[0m\u001b[1;33m:\u001b[0m\u001b[1;33m\u001b[0m\u001b[1;33m\u001b[0m\u001b[0m\n",
      "\u001b[1;32m~\\anaconda3\\lib\\site-packages\\tensorflow\\python\\framework\\constant_op.py\u001b[0m in \u001b[0;36m_constant_tensor_conversion_function\u001b[1;34m(v, dtype, name, as_ref)\u001b[0m\n\u001b[0;32m    337\u001b[0m                                          as_ref=False):\n\u001b[0;32m    338\u001b[0m   \u001b[0m_\u001b[0m \u001b[1;33m=\u001b[0m \u001b[0mas_ref\u001b[0m\u001b[1;33m\u001b[0m\u001b[1;33m\u001b[0m\u001b[0m\n\u001b[1;32m--> 339\u001b[1;33m   \u001b[1;32mreturn\u001b[0m \u001b[0mconstant\u001b[0m\u001b[1;33m(\u001b[0m\u001b[0mv\u001b[0m\u001b[1;33m,\u001b[0m \u001b[0mdtype\u001b[0m\u001b[1;33m=\u001b[0m\u001b[0mdtype\u001b[0m\u001b[1;33m,\u001b[0m \u001b[0mname\u001b[0m\u001b[1;33m=\u001b[0m\u001b[0mname\u001b[0m\u001b[1;33m)\u001b[0m\u001b[1;33m\u001b[0m\u001b[1;33m\u001b[0m\u001b[0m\n\u001b[0m\u001b[0;32m    340\u001b[0m \u001b[1;33m\u001b[0m\u001b[0m\n\u001b[0;32m    341\u001b[0m \u001b[1;33m\u001b[0m\u001b[0m\n",
      "\u001b[1;32m~\\anaconda3\\lib\\site-packages\\tensorflow\\python\\framework\\constant_op.py\u001b[0m in \u001b[0;36mconstant\u001b[1;34m(value, dtype, shape, name)\u001b[0m\n\u001b[0;32m    263\u001b[0m   \"\"\"\n\u001b[0;32m    264\u001b[0m   return _constant_impl(value, dtype, shape, name, verify_shape=False,\n\u001b[1;32m--> 265\u001b[1;33m                         allow_broadcast=True)\n\u001b[0m\u001b[0;32m    266\u001b[0m \u001b[1;33m\u001b[0m\u001b[0m\n\u001b[0;32m    267\u001b[0m \u001b[1;33m\u001b[0m\u001b[0m\n",
      "\u001b[1;32m~\\anaconda3\\lib\\site-packages\\tensorflow\\python\\framework\\constant_op.py\u001b[0m in \u001b[0;36m_constant_impl\u001b[1;34m(value, dtype, shape, name, verify_shape, allow_broadcast)\u001b[0m\n\u001b[0;32m    274\u001b[0m       \u001b[1;32mwith\u001b[0m \u001b[0mtrace\u001b[0m\u001b[1;33m.\u001b[0m\u001b[0mTrace\u001b[0m\u001b[1;33m(\u001b[0m\u001b[1;34m\"tf.constant\"\u001b[0m\u001b[1;33m)\u001b[0m\u001b[1;33m:\u001b[0m\u001b[1;33m\u001b[0m\u001b[1;33m\u001b[0m\u001b[0m\n\u001b[0;32m    275\u001b[0m         \u001b[1;32mreturn\u001b[0m \u001b[0m_constant_eager_impl\u001b[0m\u001b[1;33m(\u001b[0m\u001b[0mctx\u001b[0m\u001b[1;33m,\u001b[0m \u001b[0mvalue\u001b[0m\u001b[1;33m,\u001b[0m \u001b[0mdtype\u001b[0m\u001b[1;33m,\u001b[0m \u001b[0mshape\u001b[0m\u001b[1;33m,\u001b[0m \u001b[0mverify_shape\u001b[0m\u001b[1;33m)\u001b[0m\u001b[1;33m\u001b[0m\u001b[1;33m\u001b[0m\u001b[0m\n\u001b[1;32m--> 276\u001b[1;33m     \u001b[1;32mreturn\u001b[0m \u001b[0m_constant_eager_impl\u001b[0m\u001b[1;33m(\u001b[0m\u001b[0mctx\u001b[0m\u001b[1;33m,\u001b[0m \u001b[0mvalue\u001b[0m\u001b[1;33m,\u001b[0m \u001b[0mdtype\u001b[0m\u001b[1;33m,\u001b[0m \u001b[0mshape\u001b[0m\u001b[1;33m,\u001b[0m \u001b[0mverify_shape\u001b[0m\u001b[1;33m)\u001b[0m\u001b[1;33m\u001b[0m\u001b[1;33m\u001b[0m\u001b[0m\n\u001b[0m\u001b[0;32m    277\u001b[0m \u001b[1;33m\u001b[0m\u001b[0m\n\u001b[0;32m    278\u001b[0m   \u001b[0mg\u001b[0m \u001b[1;33m=\u001b[0m \u001b[0mops\u001b[0m\u001b[1;33m.\u001b[0m\u001b[0mget_default_graph\u001b[0m\u001b[1;33m(\u001b[0m\u001b[1;33m)\u001b[0m\u001b[1;33m\u001b[0m\u001b[1;33m\u001b[0m\u001b[0m\n",
      "\u001b[1;32m~\\anaconda3\\lib\\site-packages\\tensorflow\\python\\framework\\constant_op.py\u001b[0m in \u001b[0;36m_constant_eager_impl\u001b[1;34m(ctx, value, dtype, shape, verify_shape)\u001b[0m\n\u001b[0;32m    299\u001b[0m \u001b[1;32mdef\u001b[0m \u001b[0m_constant_eager_impl\u001b[0m\u001b[1;33m(\u001b[0m\u001b[0mctx\u001b[0m\u001b[1;33m,\u001b[0m \u001b[0mvalue\u001b[0m\u001b[1;33m,\u001b[0m \u001b[0mdtype\u001b[0m\u001b[1;33m,\u001b[0m \u001b[0mshape\u001b[0m\u001b[1;33m,\u001b[0m \u001b[0mverify_shape\u001b[0m\u001b[1;33m)\u001b[0m\u001b[1;33m:\u001b[0m\u001b[1;33m\u001b[0m\u001b[1;33m\u001b[0m\u001b[0m\n\u001b[0;32m    300\u001b[0m   \u001b[1;34m\"\"\"Implementation of eager constant.\"\"\"\u001b[0m\u001b[1;33m\u001b[0m\u001b[1;33m\u001b[0m\u001b[0m\n\u001b[1;32m--> 301\u001b[1;33m   \u001b[0mt\u001b[0m \u001b[1;33m=\u001b[0m \u001b[0mconvert_to_eager_tensor\u001b[0m\u001b[1;33m(\u001b[0m\u001b[0mvalue\u001b[0m\u001b[1;33m,\u001b[0m \u001b[0mctx\u001b[0m\u001b[1;33m,\u001b[0m \u001b[0mdtype\u001b[0m\u001b[1;33m)\u001b[0m\u001b[1;33m\u001b[0m\u001b[1;33m\u001b[0m\u001b[0m\n\u001b[0m\u001b[0;32m    302\u001b[0m   \u001b[1;32mif\u001b[0m \u001b[0mshape\u001b[0m \u001b[1;32mis\u001b[0m \u001b[1;32mNone\u001b[0m\u001b[1;33m:\u001b[0m\u001b[1;33m\u001b[0m\u001b[1;33m\u001b[0m\u001b[0m\n\u001b[0;32m    303\u001b[0m     \u001b[1;32mreturn\u001b[0m \u001b[0mt\u001b[0m\u001b[1;33m\u001b[0m\u001b[1;33m\u001b[0m\u001b[0m\n",
      "\u001b[1;32m~\\anaconda3\\lib\\site-packages\\tensorflow\\python\\framework\\constant_op.py\u001b[0m in \u001b[0;36mconvert_to_eager_tensor\u001b[1;34m(value, ctx, dtype)\u001b[0m\n\u001b[0;32m     96\u001b[0m       \u001b[0mdtype\u001b[0m \u001b[1;33m=\u001b[0m \u001b[0mdtypes\u001b[0m\u001b[1;33m.\u001b[0m\u001b[0mas_dtype\u001b[0m\u001b[1;33m(\u001b[0m\u001b[0mdtype\u001b[0m\u001b[1;33m)\u001b[0m\u001b[1;33m.\u001b[0m\u001b[0mas_datatype_enum\u001b[0m\u001b[1;33m\u001b[0m\u001b[1;33m\u001b[0m\u001b[0m\n\u001b[0;32m     97\u001b[0m   \u001b[0mctx\u001b[0m\u001b[1;33m.\u001b[0m\u001b[0mensure_initialized\u001b[0m\u001b[1;33m(\u001b[0m\u001b[1;33m)\u001b[0m\u001b[1;33m\u001b[0m\u001b[1;33m\u001b[0m\u001b[0m\n\u001b[1;32m---> 98\u001b[1;33m   \u001b[1;32mreturn\u001b[0m \u001b[0mops\u001b[0m\u001b[1;33m.\u001b[0m\u001b[0mEagerTensor\u001b[0m\u001b[1;33m(\u001b[0m\u001b[0mvalue\u001b[0m\u001b[1;33m,\u001b[0m \u001b[0mctx\u001b[0m\u001b[1;33m.\u001b[0m\u001b[0mdevice_name\u001b[0m\u001b[1;33m,\u001b[0m \u001b[0mdtype\u001b[0m\u001b[1;33m)\u001b[0m\u001b[1;33m\u001b[0m\u001b[1;33m\u001b[0m\u001b[0m\n\u001b[0m\u001b[0;32m     99\u001b[0m \u001b[1;33m\u001b[0m\u001b[0m\n\u001b[0;32m    100\u001b[0m \u001b[1;33m\u001b[0m\u001b[0m\n",
      "\u001b[1;31mValueError\u001b[0m: Attempt to convert a value (None) with an unsupported type (<class 'NoneType'>) to a Tensor."
     ]
    }
   ],
   "source": [
    "img_path = os.path.join(ANC_PATH, '924e839c-135f-11ec-b54e-a0cec8d2d278.jpg')\n",
    "img = cv2.imread(img_path)\n",
    "augmented_images = data_aug(img)\n",
    "\n",
    "for image in augmented_images:\n",
    "    cv2.imwrite(os.path.join(ANC_PATH, '{}.jpg'.format(uuid.uuid1())), image.numpy())"
   ]
  },
  {
   "cell_type": "code",
   "execution_count": 17,
   "metadata": {
    "tags": []
   },
   "outputs": [],
   "source": [
    "for file_name in os.listdir(os.path.join(POS_PATH)):\n",
    "    img_path = os.path.join(POS_PATH, file_name)\n",
    "    img = cv2.imread(img_path)\n",
    "    augmented_images = data_aug(img) \n",
    "    \n",
    "    for image in augmented_images:\n",
    "        cv2.imwrite(os.path.join(POS_PATH, '{}.jpg'.format(uuid.uuid1())), image.numpy())"
   ]
  },
  {
   "cell_type": "markdown",
   "metadata": {},
   "source": [
    "# 3. Load and Preprocess Images"
   ]
  },
  {
   "cell_type": "markdown",
   "metadata": {},
   "source": [
    "## 3.1 Get Image Directories"
   ]
  },
  {
   "cell_type": "code",
   "execution_count": 18,
   "metadata": {},
   "outputs": [],
   "source": [
    "anchor = tf.data.Dataset.list_files(ANC_PATH+'\\*.jpg').take(300)\n",
    "positive = tf.data.Dataset.list_files(POS_PATH+'\\*.jpg').take(300)\n",
    "negative = tf.data.Dataset.list_files(NEG_PATH+'\\*.jpg').take(300)"
   ]
  },
  {
   "cell_type": "code",
   "execution_count": 19,
   "metadata": {},
   "outputs": [],
   "source": [
    "dir_test = anchor.as_numpy_iterator()"
   ]
  },
  {
   "cell_type": "code",
   "execution_count": 20,
   "metadata": {},
   "outputs": [
    {
     "name": "stdout",
     "output_type": "stream",
     "text": [
      "b'data\\\\anchor\\\\b369c1dc-942f-11ee-9cf0-a01d48129e40.jpg'\n"
     ]
    }
   ],
   "source": [
    "print(dir_test.next())"
   ]
  },
  {
   "cell_type": "markdown",
   "metadata": {},
   "source": [
    "## 3.2 Preprocessing - Scale and Resize"
   ]
  },
  {
   "cell_type": "code",
   "execution_count": 21,
   "metadata": {},
   "outputs": [],
   "source": [
    "def preprocess(file_path):\n",
    "    \n",
    "    # Read in image from file path\n",
    "    byte_img = tf.io.read_file(file_path)\n",
    "    # Load in the image \n",
    "    img = tf.io.decode_jpeg(byte_img)\n",
    "    \n",
    "    # Preprocessing steps - resizing the image to be 100x100x3\n",
    "    img = tf.image.resize(img, (100,100))\n",
    "    # Scale image to be between 0 and 1 \n",
    "    img = img / 255.0\n",
    "\n",
    "    # Return image\n",
    "    return img"
   ]
  },
  {
   "cell_type": "code",
   "execution_count": 23,
   "metadata": {
    "scrolled": true,
    "tags": []
   },
   "outputs": [],
   "source": [
    "img = preprocess('data\\\\anchor\\\\b369c1dc-942f-11ee-9cf0-a01d48129e40.jpg')"
   ]
  },
  {
   "cell_type": "code",
   "execution_count": 24,
   "metadata": {},
   "outputs": [
    {
     "data": {
      "text/plain": [
       "0.9482843"
      ]
     },
     "execution_count": 24,
     "metadata": {},
     "output_type": "execute_result"
    }
   ],
   "source": [
    "img.numpy().max() "
   ]
  },
  {
   "cell_type": "code",
   "execution_count": 25,
   "metadata": {},
   "outputs": [
    {
     "ename": "NameError",
     "evalue": "name 'dataset' is not defined",
     "output_type": "error",
     "traceback": [
      "\u001b[1;31m---------------------------------------------------------------------------\u001b[0m",
      "\u001b[1;31mNameError\u001b[0m                                 Traceback (most recent call last)",
      "\u001b[1;32m~\\AppData\\Local\\Temp\\ipykernel_7760\\2569123063.py\u001b[0m in \u001b[0;36m<module>\u001b[1;34m\u001b[0m\n\u001b[1;32m----> 1\u001b[1;33m \u001b[0mdataset\u001b[0m\u001b[1;33m.\u001b[0m\u001b[0mmap\u001b[0m\u001b[1;33m(\u001b[0m\u001b[0mpreprocess\u001b[0m\u001b[1;33m)\u001b[0m\u001b[1;33m\u001b[0m\u001b[1;33m\u001b[0m\u001b[0m\n\u001b[0m",
      "\u001b[1;31mNameError\u001b[0m: name 'dataset' is not defined"
     ]
    }
   ],
   "source": [
    "dataset.map(preprocess)"
   ]
  },
  {
   "cell_type": "markdown",
   "metadata": {},
   "source": [
    "## 3.3 Create Labelled Dataset"
   ]
  },
  {
   "cell_type": "code",
   "execution_count": 179,
   "metadata": {},
   "outputs": [],
   "source": [
    "# (anchor, positive) => 1,1,1,1,1\n",
    "# (anchor, negative) => 0,0,0,0,0"
   ]
  },
  {
   "cell_type": "code",
   "execution_count": 26,
   "metadata": {},
   "outputs": [],
   "source": [
    "positives = tf.data.Dataset.zip((anchor, positive, tf.data.Dataset.from_tensor_slices(tf.ones(len(anchor)))))\n",
    "negatives = tf.data.Dataset.zip((anchor, negative, tf.data.Dataset.from_tensor_slices(tf.zeros(len(anchor)))))\n",
    "data = positives.concatenate(negatives)"
   ]
  },
  {
   "cell_type": "code",
   "execution_count": 27,
   "metadata": {},
   "outputs": [],
   "source": [
    "samples = data.as_numpy_iterator()"
   ]
  },
  {
   "cell_type": "code",
   "execution_count": 28,
   "metadata": {},
   "outputs": [],
   "source": [
    "exampple = samples.next()"
   ]
  },
  {
   "cell_type": "code",
   "execution_count": 29,
   "metadata": {
    "tags": []
   },
   "outputs": [
    {
     "data": {
      "text/plain": [
       "(b'data\\\\anchor\\\\cca26eae-942f-11ee-90c9-a01d48129e40.jpg',\n",
       " b'data\\\\positive\\\\f15a19b5-9432-11ee-b592-a01d48129e40.jpg',\n",
       " 1.0)"
      ]
     },
     "execution_count": 29,
     "metadata": {},
     "output_type": "execute_result"
    }
   ],
   "source": [
    "exampple"
   ]
  },
  {
   "cell_type": "markdown",
   "metadata": {},
   "source": [
    "## 3.4 Build Train and Test Partition"
   ]
  },
  {
   "cell_type": "code",
   "execution_count": 30,
   "metadata": {},
   "outputs": [],
   "source": [
    "def preprocess_twin(input_img, validation_img, label):\n",
    "    return(preprocess(input_img), preprocess(validation_img), label)"
   ]
  },
  {
   "cell_type": "code",
   "execution_count": 31,
   "metadata": {},
   "outputs": [],
   "source": [
    "res = preprocess_twin(*exampple)"
   ]
  },
  {
   "cell_type": "code",
   "execution_count": 35,
   "metadata": {},
   "outputs": [
    {
     "data": {
      "text/plain": [
       "<matplotlib.image.AxesImage at 0x22f6c1a7a88>"
      ]
     },
     "execution_count": 35,
     "metadata": {},
     "output_type": "execute_result"
    },
    {
     "data": {
      "image/png": "[encoded data removed]",
      "text/plain": [
       "<Figure size 640x480 with 1 Axes>"
      ]
     },
     "metadata": {},
     "output_type": "display_data"
    }
   ],
   "source": [
    "plt.imshow(res[1])"
   ]
  },
  {
   "cell_type": "code",
   "execution_count": 19,
   "metadata": {},
   "outputs": [
    {
     "data": {
      "text/plain": [
       "1.0"
      ]
     },
     "execution_count": 19,
     "metadata": {},
     "output_type": "execute_result"
    }
   ],
   "source": [
    "res[2]"
   ]
  },
  {
   "cell_type": "code",
   "execution_count": 36,
   "metadata": {},
   "outputs": [],
   "source": [
    "# Build dataloader pipeline\n",
    "data = data.map(preprocess_twin)\n",
    "data = data.cache()\n",
    "data = data.shuffle(buffer_size=10000)"
   ]
  },
  {
   "cell_type": "code",
   "execution_count": 37,
   "metadata": {},
   "outputs": [],
   "source": [
    "# Training partition\n",
    "train_data = data.take(round(len(data)*.7))\n",
    "train_data = train_data.batch(16)\n",
    "train_data = train_data.prefetch(8)"
   ]
  },
  {
   "cell_type": "code",
   "execution_count": 38,
   "metadata": {},
   "outputs": [],
   "source": [
    "# Testing partition\n",
    "test_data = data.skip(round(len(data)*.7))\n",
    "test_data = test_data.take(round(len(data)*.3))\n",
    "test_data = test_data.batch(16)\n",
    "test_data = test_data.prefetch(8)"
   ]
  },
  {
   "cell_type": "markdown",
   "metadata": {},
   "source": [
    "# 4. Model Engineering"
   ]
  },
  {
   "cell_type": "markdown",
   "metadata": {},
   "source": [
    "## 4.1 Build Embedding Layer"
   ]
  },
  {
   "cell_type": "code",
   "execution_count": 39,
   "metadata": {},
   "outputs": [],
   "source": [
    "inp = Input(shape=(100,100,3), name='input_image')"
   ]
  },
  {
   "cell_type": "code",
   "execution_count": 40,
   "metadata": {},
   "outputs": [],
   "source": [
    "c1 = Conv2D(64, (10,10), activation='relu')(inp)"
   ]
  },
  {
   "cell_type": "code",
   "execution_count": 41,
   "metadata": {},
   "outputs": [],
   "source": [
    "m1 = MaxPooling2D(64, (2,2), padding='same')(c1)"
   ]
  },
  {
   "cell_type": "code",
   "execution_count": 42,
   "metadata": {},
   "outputs": [],
   "source": [
    "c2 = Conv2D(128, (7,7), activation='relu')(m1)\n",
    "m2 = MaxPooling2D(64, (2,2), padding='same')(c2)"
   ]
  },
  {
   "cell_type": "code",
   "execution_count": 43,
   "metadata": {},
   "outputs": [],
   "source": [
    "c3 = Conv2D(128, (4,4), activation='relu')(m2)\n",
    "m3 = MaxPooling2D(64, (2,2), padding='same')(c3)"
   ]
  },
  {
   "cell_type": "code",
   "execution_count": 44,
   "metadata": {},
   "outputs": [],
   "source": [
    "c4 = Conv2D(256, (4,4), activation='relu')(m3)\n",
    "f1 = Flatten()(c4)\n",
    "d1 = Dense(4096, activation='sigmoid')(f1)"
   ]
  },
  {
   "cell_type": "code",
   "execution_count": 45,
   "metadata": {},
   "outputs": [],
   "source": [
    "mod = Model(inputs=[inp], outputs=[d1], name='embedding')"
   ]
  },
  {
   "cell_type": "code",
   "execution_count": 46,
   "metadata": {},
   "outputs": [
    {
     "name": "stdout",
     "output_type": "stream",
     "text": [
      "Model: \"embedding\"\n",
      "_________________________________________________________________\n",
      "Layer (type)                 Output Shape              Param #   \n",
      "=================================================================\n",
      "input_image (InputLayer)     [(None, 100, 100, 3)]     0         \n",
      "_________________________________________________________________\n",
      "conv2d (Conv2D)              (None, 91, 91, 64)        19264     \n",
      "_________________________________________________________________\n",
      "max_pooling2d (MaxPooling2D) (None, 46, 46, 64)        0         \n",
      "_________________________________________________________________\n",
      "conv2d_1 (Conv2D)            (None, 40, 40, 128)       401536    \n",
      "_________________________________________________________________\n",
      "max_pooling2d_1 (MaxPooling2 (None, 20, 20, 128)       0         \n",
      "_________________________________________________________________\n",
      "conv2d_2 (Conv2D)            (None, 17, 17, 128)       262272    \n",
      "_________________________________________________________________\n",
      "max_pooling2d_2 (MaxPooling2 (None, 9, 9, 128)         0         \n",
      "_________________________________________________________________\n",
      "conv2d_3 (Conv2D)            (None, 6, 6, 256)         524544    \n",
      "_________________________________________________________________\n",
      "flatten (Flatten)            (None, 9216)              0         \n",
      "_________________________________________________________________\n",
      "dense (Dense)                (None, 4096)              37752832  \n",
      "=================================================================\n",
      "Total params: 38,960,448\n",
      "Trainable params: 38,960,448\n",
      "Non-trainable params: 0\n",
      "_________________________________________________________________\n"
     ]
    }
   ],
   "source": [
    "mod.summary()"
   ]
  },
  {
   "cell_type": "code",
   "execution_count": 47,
   "metadata": {},
   "outputs": [],
   "source": [
    "def make_embedding(): \n",
    "    inp = Input(shape=(100,100,3), name='input_image')\n",
    "    \n",
    "    # First block\n",
    "    c1 = Conv2D(64, (10,10), activation='relu')(inp)\n",
    "    m1 = MaxPooling2D(64, (2,2), padding='same')(c1)\n",
    "    \n",
    "    # Second block\n",
    "    c2 = Conv2D(128, (7,7), activation='relu')(m1)\n",
    "    m2 = MaxPooling2D(64, (2,2), padding='same')(c2)\n",
    "    \n",
    "    # Third block \n",
    "    c3 = Conv2D(128, (4,4), activation='relu')(m2)\n",
    "    m3 = MaxPooling2D(64, (2,2), padding='same')(c3)\n",
    "    \n",
    "    # Final embedding block\n",
    "    c4 = Conv2D(256, (4,4), activation='relu')(m3)\n",
    "    f1 = Flatten()(c4)\n",
    "    d1 = Dense(4096, activation='sigmoid')(f1)\n",
    "    \n",
    "    \n",
    "    return Model(inputs=[inp], outputs=[d1], name='embedding')"
   ]
  },
  {
   "cell_type": "code",
   "execution_count": 48,
   "metadata": {},
   "outputs": [],
   "source": [
    "embedding = make_embedding()"
   ]
  },
  {
   "cell_type": "code",
   "execution_count": 49,
   "metadata": {},
   "outputs": [
    {
     "name": "stdout",
     "output_type": "stream",
     "text": [
      "Model: \"embedding\"\n",
      "_________________________________________________________________\n",
      "Layer (type)                 Output Shape              Param #   \n",
      "=================================================================\n",
      "input_image (InputLayer)     [(None, 100, 100, 3)]     0         \n",
      "_________________________________________________________________\n",
      "conv2d_4 (Conv2D)            (None, 91, 91, 64)        19264     \n",
      "_________________________________________________________________\n",
      "max_pooling2d_3 (MaxPooling2 (None, 46, 46, 64)        0         \n",
      "_________________________________________________________________\n",
      "conv2d_5 (Conv2D)            (None, 40, 40, 128)       401536    \n",
      "_________________________________________________________________\n",
      "max_pooling2d_4 (MaxPooling2 (None, 20, 20, 128)       0         \n",
      "_________________________________________________________________\n",
      "conv2d_6 (Conv2D)            (None, 17, 17, 128)       262272    \n",
      "_________________________________________________________________\n",
      "max_pooling2d_5 (MaxPooling2 (None, 9, 9, 128)         0         \n",
      "_________________________________________________________________\n",
      "conv2d_7 (Conv2D)            (None, 6, 6, 256)         524544    \n",
      "_________________________________________________________________\n",
      "flatten_1 (Flatten)          (None, 9216)              0         \n",
      "_________________________________________________________________\n",
      "dense_1 (Dense)              (None, 4096)              37752832  \n",
      "=================================================================\n",
      "Total params: 38,960,448\n",
      "Trainable params: 38,960,448\n",
      "Non-trainable params: 0\n",
      "_________________________________________________________________\n"
     ]
    }
   ],
   "source": [
    "embedding.summary()"
   ]
  },
  {
   "cell_type": "markdown",
   "metadata": {},
   "source": [
    "## 4.2 Build Distance Layer"
   ]
  },
  {
   "cell_type": "code",
   "execution_count": 55,
   "metadata": {},
   "outputs": [],
   "source": [
    "# Siamese L1 Distance class\n",
    "class L1Dist(Layer):\n",
    "    \n",
    "    # Init method - inheritance\n",
    "    def __init__(self, **kwargs):\n",
    "        super().__init__()\n",
    "       \n",
    "    # Magic happens here - similarity calculation\n",
    "    def call(self, input_embedding, validation_embedding):\n",
    "        return tf.math.abs(input_embedding - validation_embedding)"
   ]
  },
  {
   "cell_type": "code",
   "execution_count": 56,
   "metadata": {},
   "outputs": [],
   "source": [
    "l1 = L1Dist()"
   ]
  },
  {
   "cell_type": "code",
   "execution_count": 61,
   "metadata": {
    "tags": []
   },
   "outputs": [
    {
     "ename": "NameError",
     "evalue": "name 'anchor_embedding' is not defined",
     "output_type": "error",
     "traceback": [
      "\u001b[1;31m---------------------------------------------------------------------------\u001b[0m",
      "\u001b[1;31mNameError\u001b[0m                                 Traceback (most recent call last)",
      "\u001b[1;32m~\\AppData\\Local\\Temp\\ipykernel_7760\\3877395630.py\u001b[0m in \u001b[0;36m<module>\u001b[1;34m\u001b[0m\n\u001b[1;32m----> 1\u001b[1;33m \u001b[0ml1\u001b[0m\u001b[1;33m(\u001b[0m\u001b[0manchor_embedding\u001b[0m\u001b[1;33m,\u001b[0m \u001b[0mvalidation_embedding\u001b[0m\u001b[1;33m)\u001b[0m\u001b[1;33m\u001b[0m\u001b[1;33m\u001b[0m\u001b[0m\n\u001b[0m",
      "\u001b[1;31mNameError\u001b[0m: name 'anchor_embedding' is not defined"
     ]
    }
   ],
   "source": [
    "l1(anchor_embedding, validation_embedding)"
   ]
  },
  {
   "cell_type": "markdown",
   "metadata": {},
   "source": [
    "## 4.3 Make Siamese Model"
   ]
  },
  {
   "cell_type": "code",
   "execution_count": 204,
   "metadata": {},
   "outputs": [],
   "source": [
    "input_image = Input(name='input_img', shape=(100,100,3))\n",
    "validation_image = Input(name='validation_img', shape=(100,100,3))"
   ]
  },
  {
   "cell_type": "code",
   "execution_count": 205,
   "metadata": {},
   "outputs": [],
   "source": [
    "inp_embedding = embedding(input_image)\n",
    "val_embedding = embedding(validation_image)"
   ]
  },
  {
   "cell_type": "code",
   "execution_count": 206,
   "metadata": {},
   "outputs": [],
   "source": [
    "siamese_layer = L1Dist()"
   ]
  },
  {
   "cell_type": "code",
   "execution_count": 207,
   "metadata": {},
   "outputs": [],
   "source": [
    "distances = siamese_layer(inp_embedding, val_embedding)"
   ]
  },
  {
   "cell_type": "code",
   "execution_count": 208,
   "metadata": {},
   "outputs": [],
   "source": [
    "classifier = Dense(1, activation='sigmoid')(distances)"
   ]
  },
  {
   "cell_type": "code",
   "execution_count": 209,
   "metadata": {},
   "outputs": [
    {
     "data": {
      "text/plain": [
       "<KerasTensor: shape=(None, 1) dtype=float32 (created by layer 'dense_6')>"
      ]
     },
     "execution_count": 209,
     "metadata": {},
     "output_type": "execute_result"
    }
   ],
   "source": [
    "classifier"
   ]
  },
  {
   "cell_type": "code",
   "execution_count": 210,
   "metadata": {},
   "outputs": [],
   "source": [
    "siamese_network = Model(inputs=[input_image, validation_image], outputs=classifier, name='SiameseNetwork')"
   ]
  },
  {
   "cell_type": "code",
   "execution_count": 211,
   "metadata": {},
   "outputs": [
    {
     "name": "stdout",
     "output_type": "stream",
     "text": [
      "Model: \"SiameseNetwork\"\n",
      "__________________________________________________________________________________________________\n",
      "Layer (type)                    Output Shape         Param #     Connected to                     \n",
      "==================================================================================================\n",
      "input_img (InputLayer)          [(None, 100, 100, 3) 0                                            \n",
      "__________________________________________________________________________________________________\n",
      "validation_img (InputLayer)     [(None, 100, 100, 3) 0                                            \n",
      "__________________________________________________________________________________________________\n",
      "embedding (Functional)          (None, 4096)         38960448    input_img[0][0]                  \n",
      "                                                                 validation_img[0][0]             \n",
      "__________________________________________________________________________________________________\n",
      "l1_dist_4 (L1Dist)              (None, 4096)         0           embedding[0][0]                  \n",
      "                                                                 embedding[1][0]                  \n",
      "__________________________________________________________________________________________________\n",
      "dense_6 (Dense)                 (None, 1)            4097        l1_dist_4[0][0]                  \n",
      "==================================================================================================\n",
      "Total params: 38,964,545\n",
      "Trainable params: 38,964,545\n",
      "Non-trainable params: 0\n",
      "__________________________________________________________________________________________________\n"
     ]
    }
   ],
   "source": [
    "siamese_network.summary()"
   ]
  },
  {
   "cell_type": "code",
   "execution_count": 58,
   "metadata": {},
   "outputs": [],
   "source": [
    "def make_siamese_model(): \n",
    "    \n",
    "    # Anchor image input in the network\n",
    "    input_image = Input(name='input_img', shape=(100,100,3))\n",
    "    \n",
    "    # Validation image in the network \n",
    "    validation_image = Input(name='validation_img', shape=(100,100,3))\n",
    "    \n",
    "    # Combine siamese distance components\n",
    "    siamese_layer = L1Dist()\n",
    "    siamese_layer._name = 'distance'\n",
    "    distances = siamese_layer(embedding(input_image), embedding(validation_image))\n",
    "    \n",
    "    # Classification layer \n",
    "    classifier = Dense(1, activation='sigmoid')(distances)\n",
    "    \n",
    "    return Model(inputs=[input_image, validation_image], outputs=classifier, name='SiameseNetwork')"
   ]
  },
  {
   "cell_type": "code",
   "execution_count": 59,
   "metadata": {},
   "outputs": [],
   "source": [
    "siamese_model = make_siamese_model()"
   ]
  },
  {
   "cell_type": "code",
   "execution_count": 60,
   "metadata": {
    "tags": []
   },
   "outputs": [
    {
     "name": "stdout",
     "output_type": "stream",
     "text": [
      "Model: \"SiameseNetwork\"\n",
      "__________________________________________________________________________________________________\n",
      "Layer (type)                    Output Shape         Param #     Connected to                     \n",
      "==================================================================================================\n",
      "input_img (InputLayer)          [(None, 100, 100, 3) 0                                            \n",
      "__________________________________________________________________________________________________\n",
      "validation_img (InputLayer)     [(None, 100, 100, 3) 0                                            \n",
      "__________________________________________________________________________________________________\n",
      "embedding (Functional)          (None, 4096)         38960448    input_img[0][0]                  \n",
      "                                                                 validation_img[0][0]             \n",
      "__________________________________________________________________________________________________\n",
      "distance (L1Dist)               (None, 4096)         0           embedding[0][0]                  \n",
      "                                                                 embedding[1][0]                  \n",
      "__________________________________________________________________________________________________\n",
      "dense_2 (Dense)                 (None, 1)            4097        distance[0][0]                   \n",
      "==================================================================================================\n",
      "Total params: 38,964,545\n",
      "Trainable params: 38,964,545\n",
      "Non-trainable params: 0\n",
      "__________________________________________________________________________________________________\n"
     ]
    }
   ],
   "source": [
    "siamese_model.summary()"
   ]
  },
  {
   "cell_type": "markdown",
   "metadata": {},
   "source": [
    "# 5. Training"
   ]
  },
  {
   "cell_type": "markdown",
   "metadata": {},
   "source": [
    "## 5.1 Setup Loss and Optimizer"
   ]
  },
  {
   "cell_type": "code",
   "execution_count": 62,
   "metadata": {},
   "outputs": [],
   "source": [
    "binary_cross_loss = tf.losses.BinaryCrossentropy()"
   ]
  },
  {
   "cell_type": "code",
   "execution_count": 63,
   "metadata": {},
   "outputs": [],
   "source": [
    "opt = tf.keras.optimizers.Adam(1e-4) # 0.0001"
   ]
  },
  {
   "cell_type": "markdown",
   "metadata": {},
   "source": [
    "## 5.2 Establish Checkpoints"
   ]
  },
  {
   "cell_type": "code",
   "execution_count": 64,
   "metadata": {},
   "outputs": [],
   "source": [
    "checkpoint_dir = './training_checkpoints'\n",
    "checkpoint_prefix = os.path.join(checkpoint_dir, 'ckpt')\n",
    "checkpoint = tf.train.Checkpoint(opt=opt, siamese_model=siamese_model)"
   ]
  },
  {
   "cell_type": "markdown",
   "metadata": {},
   "source": [
    "## 5.3 Build Train Step Function"
   ]
  },
  {
   "cell_type": "code",
   "execution_count": 66,
   "metadata": {},
   "outputs": [],
   "source": [
    "test_batch = train_data.as_numpy_iterator()"
   ]
  },
  {
   "cell_type": "code",
   "execution_count": 67,
   "metadata": {},
   "outputs": [],
   "source": [
    "batch_1 = test_batch.next()"
   ]
  },
  {
   "cell_type": "code",
   "execution_count": 68,
   "metadata": {},
   "outputs": [],
   "source": [
    "X = batch_1[:2]"
   ]
  },
  {
   "cell_type": "code",
   "execution_count": 69,
   "metadata": {},
   "outputs": [],
   "source": [
    "y = batch_1[2]"
   ]
  },
  {
   "cell_type": "code",
   "execution_count": 70,
   "metadata": {},
   "outputs": [
    {
     "data": {
      "text/plain": [
       "array([1., 0., 0., 1., 0., 0., 0., 1., 1., 0., 1., 1., 0., 0., 0., 1.],\n",
       "      dtype=float32)"
      ]
     },
     "execution_count": 70,
     "metadata": {},
     "output_type": "execute_result"
    }
   ],
   "source": [
    "y"
   ]
  },
  {
   "cell_type": "code",
   "execution_count": 71,
   "metadata": {
    "jupyter": {
     "outputs_hidden": true
    },
    "tags": []
   },
   "outputs": [],
   "source": [
    "tf.losses.BinaryCrossentropy??"
   ]
  },
  {
   "cell_type": "code",
   "execution_count": 72,
   "metadata": {
    "tags": []
   },
   "outputs": [],
   "source": [
    "@tf.function\n",
    "def train_step(batch):\n",
    "    \n",
    "    # Record all of our operations \n",
    "    with tf.GradientTape() as tape:     \n",
    "        # Get anchor and positive/negative image\n",
    "        X = batch[:2]\n",
    "        # Get label\n",
    "        y = batch[2]\n",
    "        \n",
    "        # Forward pass\n",
    "        yhat = siamese_model(X, training=True)\n",
    "        # Calculate loss\n",
    "        loss = binary_cross_loss(y, yhat)\n",
    "    print(loss)\n",
    "        \n",
    "    # Calculate gradients\n",
    "    grad = tape.gradient(loss, siamese_model.trainable_variables)\n",
    "    \n",
    "    # Calculate updated weights and apply to siamese model\n",
    "    opt.apply_gradients(zip(grad, siamese_model.trainable_variables))\n",
    "        \n",
    "    # Return loss\n",
    "    return loss"
   ]
  },
  {
   "cell_type": "markdown",
   "metadata": {},
   "source": [
    "## 5.4 Build Training Loop"
   ]
  },
  {
   "cell_type": "code",
   "execution_count": 73,
   "metadata": {},
   "outputs": [],
   "source": [
    "# Import metric calculations\n",
    "from tensorflow.keras.metrics import Precision, Recall"
   ]
  },
  {
   "cell_type": "code",
   "execution_count": 74,
   "metadata": {},
   "outputs": [],
   "source": [
    "def train(data, EPOCHS):\n",
    "    # Loop through epochs\n",
    "    for epoch in range(1, EPOCHS+1):\n",
    "        print('\\n Epoch {}/{}'.format(epoch, EPOCHS))\n",
    "        progbar = tf.keras.utils.Progbar(len(data))\n",
    "        \n",
    "        # Creating a metric object \n",
    "        r = Recall()\n",
    "        p = Precision()\n",
    "        \n",
    "        # Loop through each batch\n",
    "        for idx, batch in enumerate(data):\n",
    "            # Run train step here\n",
    "            loss = train_step(batch)\n",
    "            yhat = siamese_model.predict(batch[:2])\n",
    "            r.update_state(batch[2], yhat)\n",
    "            p.update_state(batch[2], yhat) \n",
    "            progbar.update(idx+1)\n",
    "        print(loss.numpy(), r.result().numpy(), p.result().numpy())\n",
    "        \n",
    "        # Save checkpoints\n",
    "        if epoch % 10 == 0: \n",
    "            checkpoint.save(file_prefix=checkpoint_prefix)"
   ]
  },
  {
   "cell_type": "markdown",
   "metadata": {},
   "source": [
    "## 5.5 Train the model"
   ]
  },
  {
   "cell_type": "code",
   "execution_count": 75,
   "metadata": {},
   "outputs": [],
   "source": [
    "EPOCHS = 50"
   ]
  },
  {
   "cell_type": "code",
   "execution_count": 76,
   "metadata": {
    "scrolled": true,
    "tags": []
   },
   "outputs": [
    {
     "name": "stdout",
     "output_type": "stream",
     "text": [
      "\n",
      " Epoch 1/50\n",
      "Tensor(\"binary_crossentropy/weighted_loss/value:0\", shape=(), dtype=float32)\n",
      "Tensor(\"binary_crossentropy/weighted_loss/value:0\", shape=(), dtype=float32)\n",
      " 4/27 [===>..........................] - ETA: 19:18"
     ]
    },
    {
     "ename": "KeyboardInterrupt",
     "evalue": "",
     "output_type": "error",
     "traceback": [
      "\u001b[1;31m---------------------------------------------------------------------------\u001b[0m",
      "\u001b[1;31mKeyboardInterrupt\u001b[0m                         Traceback (most recent call last)",
      "\u001b[1;32m~\\AppData\\Local\\Temp\\ipykernel_7760\\1690291132.py\u001b[0m in \u001b[0;36m<module>\u001b[1;34m\u001b[0m\n\u001b[1;32m----> 1\u001b[1;33m \u001b[0mtrain\u001b[0m\u001b[1;33m(\u001b[0m\u001b[0mtrain_data\u001b[0m\u001b[1;33m,\u001b[0m \u001b[0mEPOCHS\u001b[0m\u001b[1;33m)\u001b[0m\u001b[1;33m\u001b[0m\u001b[1;33m\u001b[0m\u001b[0m\n\u001b[0m",
      "\u001b[1;32m~\\AppData\\Local\\Temp\\ipykernel_7760\\1294751870.py\u001b[0m in \u001b[0;36mtrain\u001b[1;34m(data, EPOCHS)\u001b[0m\n\u001b[0;32m     12\u001b[0m         \u001b[1;32mfor\u001b[0m \u001b[0midx\u001b[0m\u001b[1;33m,\u001b[0m \u001b[0mbatch\u001b[0m \u001b[1;32min\u001b[0m \u001b[0menumerate\u001b[0m\u001b[1;33m(\u001b[0m\u001b[0mdata\u001b[0m\u001b[1;33m)\u001b[0m\u001b[1;33m:\u001b[0m\u001b[1;33m\u001b[0m\u001b[1;33m\u001b[0m\u001b[0m\n\u001b[0;32m     13\u001b[0m             \u001b[1;31m# Run train step here\u001b[0m\u001b[1;33m\u001b[0m\u001b[1;33m\u001b[0m\u001b[1;33m\u001b[0m\u001b[0m\n\u001b[1;32m---> 14\u001b[1;33m             \u001b[0mloss\u001b[0m \u001b[1;33m=\u001b[0m \u001b[0mtrain_step\u001b[0m\u001b[1;33m(\u001b[0m\u001b[0mbatch\u001b[0m\u001b[1;33m)\u001b[0m\u001b[1;33m\u001b[0m\u001b[1;33m\u001b[0m\u001b[0m\n\u001b[0m\u001b[0;32m     15\u001b[0m             \u001b[0myhat\u001b[0m \u001b[1;33m=\u001b[0m \u001b[0msiamese_model\u001b[0m\u001b[1;33m.\u001b[0m\u001b[0mpredict\u001b[0m\u001b[1;33m(\u001b[0m\u001b[0mbatch\u001b[0m\u001b[1;33m[\u001b[0m\u001b[1;33m:\u001b[0m\u001b[1;36m2\u001b[0m\u001b[1;33m]\u001b[0m\u001b[1;33m)\u001b[0m\u001b[1;33m\u001b[0m\u001b[1;33m\u001b[0m\u001b[0m\n\u001b[0;32m     16\u001b[0m             \u001b[0mr\u001b[0m\u001b[1;33m.\u001b[0m\u001b[0mupdate_state\u001b[0m\u001b[1;33m(\u001b[0m\u001b[0mbatch\u001b[0m\u001b[1;33m[\u001b[0m\u001b[1;36m2\u001b[0m\u001b[1;33m]\u001b[0m\u001b[1;33m,\u001b[0m \u001b[0myhat\u001b[0m\u001b[1;33m)\u001b[0m\u001b[1;33m\u001b[0m\u001b[1;33m\u001b[0m\u001b[0m\n",
      "\u001b[1;32m~\\anaconda3\\lib\\site-packages\\tensorflow\\python\\eager\\def_function.py\u001b[0m in \u001b[0;36m__call__\u001b[1;34m(self, *args, **kwds)\u001b[0m\n\u001b[0;32m    826\u001b[0m     \u001b[0mtracing_count\u001b[0m \u001b[1;33m=\u001b[0m \u001b[0mself\u001b[0m\u001b[1;33m.\u001b[0m\u001b[0mexperimental_get_tracing_count\u001b[0m\u001b[1;33m(\u001b[0m\u001b[1;33m)\u001b[0m\u001b[1;33m\u001b[0m\u001b[1;33m\u001b[0m\u001b[0m\n\u001b[0;32m    827\u001b[0m     \u001b[1;32mwith\u001b[0m \u001b[0mtrace\u001b[0m\u001b[1;33m.\u001b[0m\u001b[0mTrace\u001b[0m\u001b[1;33m(\u001b[0m\u001b[0mself\u001b[0m\u001b[1;33m.\u001b[0m\u001b[0m_name\u001b[0m\u001b[1;33m)\u001b[0m \u001b[1;32mas\u001b[0m \u001b[0mtm\u001b[0m\u001b[1;33m:\u001b[0m\u001b[1;33m\u001b[0m\u001b[1;33m\u001b[0m\u001b[0m\n\u001b[1;32m--> 828\u001b[1;33m       \u001b[0mresult\u001b[0m \u001b[1;33m=\u001b[0m \u001b[0mself\u001b[0m\u001b[1;33m.\u001b[0m\u001b[0m_call\u001b[0m\u001b[1;33m(\u001b[0m\u001b[1;33m*\u001b[0m\u001b[0margs\u001b[0m\u001b[1;33m,\u001b[0m \u001b[1;33m**\u001b[0m\u001b[0mkwds\u001b[0m\u001b[1;33m)\u001b[0m\u001b[1;33m\u001b[0m\u001b[1;33m\u001b[0m\u001b[0m\n\u001b[0m\u001b[0;32m    829\u001b[0m       \u001b[0mcompiler\u001b[0m \u001b[1;33m=\u001b[0m \u001b[1;34m\"xla\"\u001b[0m \u001b[1;32mif\u001b[0m \u001b[0mself\u001b[0m\u001b[1;33m.\u001b[0m\u001b[0m_experimental_compile\u001b[0m \u001b[1;32melse\u001b[0m \u001b[1;34m\"nonXla\"\u001b[0m\u001b[1;33m\u001b[0m\u001b[1;33m\u001b[0m\u001b[0m\n\u001b[0;32m    830\u001b[0m       \u001b[0mnew_tracing_count\u001b[0m \u001b[1;33m=\u001b[0m \u001b[0mself\u001b[0m\u001b[1;33m.\u001b[0m\u001b[0mexperimental_get_tracing_count\u001b[0m\u001b[1;33m(\u001b[0m\u001b[1;33m)\u001b[0m\u001b[1;33m\u001b[0m\u001b[1;33m\u001b[0m\u001b[0m\n",
      "\u001b[1;32m~\\anaconda3\\lib\\site-packages\\tensorflow\\python\\eager\\def_function.py\u001b[0m in \u001b[0;36m_call\u001b[1;34m(self, *args, **kwds)\u001b[0m\n\u001b[0;32m    853\u001b[0m       \u001b[1;31m# In this case we have created variables on the first call, so we run the\u001b[0m\u001b[1;33m\u001b[0m\u001b[1;33m\u001b[0m\u001b[1;33m\u001b[0m\u001b[0m\n\u001b[0;32m    854\u001b[0m       \u001b[1;31m# defunned version which is guaranteed to never create variables.\u001b[0m\u001b[1;33m\u001b[0m\u001b[1;33m\u001b[0m\u001b[1;33m\u001b[0m\u001b[0m\n\u001b[1;32m--> 855\u001b[1;33m       \u001b[1;32mreturn\u001b[0m \u001b[0mself\u001b[0m\u001b[1;33m.\u001b[0m\u001b[0m_stateless_fn\u001b[0m\u001b[1;33m(\u001b[0m\u001b[1;33m*\u001b[0m\u001b[0margs\u001b[0m\u001b[1;33m,\u001b[0m \u001b[1;33m**\u001b[0m\u001b[0mkwds\u001b[0m\u001b[1;33m)\u001b[0m  \u001b[1;31m# pylint: disable=not-callable\u001b[0m\u001b[1;33m\u001b[0m\u001b[1;33m\u001b[0m\u001b[0m\n\u001b[0m\u001b[0;32m    856\u001b[0m     \u001b[1;32melif\u001b[0m \u001b[0mself\u001b[0m\u001b[1;33m.\u001b[0m\u001b[0m_stateful_fn\u001b[0m \u001b[1;32mis\u001b[0m \u001b[1;32mnot\u001b[0m \u001b[1;32mNone\u001b[0m\u001b[1;33m:\u001b[0m\u001b[1;33m\u001b[0m\u001b[1;33m\u001b[0m\u001b[0m\n\u001b[0;32m    857\u001b[0m       \u001b[1;31m# Release the lock early so that multiple threads can perform the call\u001b[0m\u001b[1;33m\u001b[0m\u001b[1;33m\u001b[0m\u001b[1;33m\u001b[0m\u001b[0m\n",
      "\u001b[1;32m~\\anaconda3\\lib\\site-packages\\tensorflow\\python\\eager\\function.py\u001b[0m in \u001b[0;36m__call__\u001b[1;34m(self, *args, **kwargs)\u001b[0m\n\u001b[0;32m   2941\u001b[0m        filtered_flat_args) = self._maybe_define_function(args, kwargs)\n\u001b[0;32m   2942\u001b[0m     return graph_function._call_flat(\n\u001b[1;32m-> 2943\u001b[1;33m         filtered_flat_args, captured_inputs=graph_function.captured_inputs)  # pylint: disable=protected-access\n\u001b[0m\u001b[0;32m   2944\u001b[0m \u001b[1;33m\u001b[0m\u001b[0m\n\u001b[0;32m   2945\u001b[0m   \u001b[1;33m@\u001b[0m\u001b[0mproperty\u001b[0m\u001b[1;33m\u001b[0m\u001b[1;33m\u001b[0m\u001b[0m\n",
      "\u001b[1;32m~\\anaconda3\\lib\\site-packages\\tensorflow\\python\\eager\\function.py\u001b[0m in \u001b[0;36m_call_flat\u001b[1;34m(self, args, captured_inputs, cancellation_manager)\u001b[0m\n\u001b[0;32m   1917\u001b[0m       \u001b[1;31m# No tape is watching; skip to running the function.\u001b[0m\u001b[1;33m\u001b[0m\u001b[1;33m\u001b[0m\u001b[1;33m\u001b[0m\u001b[0m\n\u001b[0;32m   1918\u001b[0m       return self._build_call_outputs(self._inference_function.call(\n\u001b[1;32m-> 1919\u001b[1;33m           ctx, args, cancellation_manager=cancellation_manager))\n\u001b[0m\u001b[0;32m   1920\u001b[0m     forward_backward = self._select_forward_and_backward_functions(\n\u001b[0;32m   1921\u001b[0m         \u001b[0margs\u001b[0m\u001b[1;33m,\u001b[0m\u001b[1;33m\u001b[0m\u001b[1;33m\u001b[0m\u001b[0m\n",
      "\u001b[1;32m~\\anaconda3\\lib\\site-packages\\tensorflow\\python\\eager\\function.py\u001b[0m in \u001b[0;36mcall\u001b[1;34m(self, ctx, args, cancellation_manager)\u001b[0m\n\u001b[0;32m    558\u001b[0m               \u001b[0minputs\u001b[0m\u001b[1;33m=\u001b[0m\u001b[0margs\u001b[0m\u001b[1;33m,\u001b[0m\u001b[1;33m\u001b[0m\u001b[1;33m\u001b[0m\u001b[0m\n\u001b[0;32m    559\u001b[0m               \u001b[0mattrs\u001b[0m\u001b[1;33m=\u001b[0m\u001b[0mattrs\u001b[0m\u001b[1;33m,\u001b[0m\u001b[1;33m\u001b[0m\u001b[1;33m\u001b[0m\u001b[0m\n\u001b[1;32m--> 560\u001b[1;33m               ctx=ctx)\n\u001b[0m\u001b[0;32m    561\u001b[0m         \u001b[1;32melse\u001b[0m\u001b[1;33m:\u001b[0m\u001b[1;33m\u001b[0m\u001b[1;33m\u001b[0m\u001b[0m\n\u001b[0;32m    562\u001b[0m           outputs = execute.execute_with_cancellation(\n",
      "\u001b[1;32m~\\anaconda3\\lib\\site-packages\\tensorflow\\python\\eager\\execute.py\u001b[0m in \u001b[0;36mquick_execute\u001b[1;34m(op_name, num_outputs, inputs, attrs, ctx, name)\u001b[0m\n\u001b[0;32m     58\u001b[0m     \u001b[0mctx\u001b[0m\u001b[1;33m.\u001b[0m\u001b[0mensure_initialized\u001b[0m\u001b[1;33m(\u001b[0m\u001b[1;33m)\u001b[0m\u001b[1;33m\u001b[0m\u001b[1;33m\u001b[0m\u001b[0m\n\u001b[0;32m     59\u001b[0m     tensors = pywrap_tfe.TFE_Py_Execute(ctx._handle, device_name, op_name,\n\u001b[1;32m---> 60\u001b[1;33m                                         inputs, attrs, num_outputs)\n\u001b[0m\u001b[0;32m     61\u001b[0m   \u001b[1;32mexcept\u001b[0m \u001b[0mcore\u001b[0m\u001b[1;33m.\u001b[0m\u001b[0m_NotOkStatusException\u001b[0m \u001b[1;32mas\u001b[0m \u001b[0me\u001b[0m\u001b[1;33m:\u001b[0m\u001b[1;33m\u001b[0m\u001b[1;33m\u001b[0m\u001b[0m\n\u001b[0;32m     62\u001b[0m     \u001b[1;32mif\u001b[0m \u001b[0mname\u001b[0m \u001b[1;32mis\u001b[0m \u001b[1;32mnot\u001b[0m \u001b[1;32mNone\u001b[0m\u001b[1;33m:\u001b[0m\u001b[1;33m\u001b[0m\u001b[1;33m\u001b[0m\u001b[0m\n",
      "\u001b[1;31mKeyboardInterrupt\u001b[0m: "
     ]
    }
   ],
   "source": [
    "train(train_data, EPOCHS)"
   ]
  },
  {
   "cell_type": "markdown",
   "metadata": {
    "tags": []
   },
   "source": [
    "# 6. Evaluate Model"
   ]
  },
  {
   "cell_type": "markdown",
   "metadata": {},
   "source": [
    "## 6.1 Import Metrics"
   ]
  },
  {
   "cell_type": "code",
   "execution_count": 228,
   "metadata": {},
   "outputs": [],
   "source": [
    "# Import metric calculations\n",
    "from tensorflow.keras.metrics import Precision, Recall"
   ]
  },
  {
   "cell_type": "markdown",
   "metadata": {},
   "source": [
    "## 6.2 Make Predictions"
   ]
  },
  {
   "cell_type": "code",
   "execution_count": 229,
   "metadata": {},
   "outputs": [],
   "source": [
    "# Get a batch of test data\n",
    "test_input, test_val, y_true = test_data.as_numpy_iterator().next()"
   ]
  },
  {
   "cell_type": "code",
   "execution_count": 230,
   "metadata": {
    "tags": []
   },
   "outputs": [],
   "source": [
    "y_hat = siamese_model.predict([test_input, test_val])"
   ]
  },
  {
   "cell_type": "code",
   "execution_count": 231,
   "metadata": {
    "tags": []
   },
   "outputs": [
    {
     "data": {
      "text/plain": [
       "[1, 1, 1, 0, 1, 1, 0, 0, 1, 0, 0, 0, 0, 1, 0, 1]"
      ]
     },
     "execution_count": 231,
     "metadata": {},
     "output_type": "execute_result"
    }
   ],
   "source": [
    "# Post processing the results \n",
    "[1 if prediction > 0.5 else 0 for prediction in y_hat ]"
   ]
  },
  {
   "cell_type": "code",
   "execution_count": 232,
   "metadata": {
    "tags": []
   },
   "outputs": [
    {
     "data": {
      "text/plain": [
       "array([1., 1., 1., 0., 1., 1., 0., 0., 1., 0., 0., 0., 0., 1., 0., 1.],\n",
       "      dtype=float32)"
      ]
     },
     "execution_count": 232,
     "metadata": {},
     "output_type": "execute_result"
    }
   ],
   "source": [
    "y_true"
   ]
  },
  {
   "cell_type": "markdown",
   "metadata": {},
   "source": [
    "## 6.3 Calculate Metrics"
   ]
  },
  {
   "cell_type": "code",
   "execution_count": 233,
   "metadata": {},
   "outputs": [
    {
     "data": {
      "text/plain": [
       "1.0"
      ]
     },
     "execution_count": 233,
     "metadata": {},
     "output_type": "execute_result"
    }
   ],
   "source": [
    "# Creating a metric object \n",
    "m = Recall()\n",
    "\n",
    "# Calculating the recall value \n",
    "m.update_state(y_true, y_hat)\n",
    "\n",
    "# Return Recall Result\n",
    "m.result().numpy()"
   ]
  },
  {
   "cell_type": "code",
   "execution_count": 234,
   "metadata": {},
   "outputs": [
    {
     "data": {
      "text/plain": [
       "1.0"
      ]
     },
     "execution_count": 234,
     "metadata": {},
     "output_type": "execute_result"
    }
   ],
   "source": [
    "# Creating a metric object \n",
    "m = Precision()\n",
    "\n",
    "# Calculating the recall value \n",
    "m.update_state(y_true, y_hat)\n",
    "\n",
    "# Return Recall Result\n",
    "m.result().numpy()"
   ]
  },
  {
   "cell_type": "code",
   "execution_count": 235,
   "metadata": {},
   "outputs": [
    {
     "name": "stdout",
     "output_type": "stream",
     "text": [
      "1.0 0.99889135\n"
     ]
    }
   ],
   "source": [
    "r = Recall()\n",
    "p = Precision()\n",
    "\n",
    "for test_input, test_val, y_true in test_data.as_numpy_iterator():\n",
    "    yhat = siamese_model.predict([test_input, test_val])\n",
    "    r.update_state(y_true, yhat)\n",
    "    p.update_state(y_true,yhat) \n",
    "\n",
    "print(r.result().numpy(), p.result().numpy())"
   ]
  },
  {
   "cell_type": "markdown",
   "metadata": {},
   "source": [
    "## 6.4 Viz Results"
   ]
  },
  {
   "cell_type": "code",
   "execution_count": 236,
   "metadata": {},
   "outputs": [
    {
     "data": {
      "image/png": "[encoded data removed]",
      "text/plain": [
       "<Figure size 720x576 with 2 Axes>"
      ]
     },
     "metadata": {
      "needs_background": "light"
     },
     "output_type": "display_data"
    }
   ],
   "source": [
    "# Set plot size \n",
    "plt.figure(figsize=(10,8))\n",
    "\n",
    "# Set first subplot\n",
    "plt.subplot(1,2,1)\n",
    "plt.imshow(test_input[0])\n",
    "\n",
    "# Set second subplot\n",
    "plt.subplot(1,2,2)\n",
    "plt.imshow(test_val[0])\n",
    "\n",
    "# Renders cleanly\n",
    "plt.show()"
   ]
  },
  {
   "cell_type": "markdown",
   "metadata": {},
   "source": [
    "# 7. Save Model"
   ]
  },
  {
   "cell_type": "code",
   "execution_count": 237,
   "metadata": {},
   "outputs": [],
   "source": [
    "# Save weights\n",
    "siamese_model.save('siamesemodelv2.h5')"
   ]
  },
  {
   "cell_type": "code",
   "execution_count": null,
   "metadata": {},
   "outputs": [],
   "source": [
    "L1Dist"
   ]
  },
  {
   "cell_type": "code",
   "execution_count": 6,
   "metadata": {},
   "outputs": [
    {
     "name": "stdout",
     "output_type": "stream",
     "text": [
      "WARNING:tensorflow:No training configuration found in the save file, so the model was *not* compiled. Compile it manually.\n"
     ]
    }
   ],
   "source": [
    "# Reload model \n",
    "siamese_model = tf.keras.models.load_model('siamesemodelv2.h5', \n",
    "                                   custom_objects={'L1Dist':L1Dist, 'BinaryCrossentropy':tf.losses.BinaryCrossentropy})"
   ]
  },
  {
   "cell_type": "code",
   "execution_count": 239,
   "metadata": {},
   "outputs": [
    {
     "data": {
      "text/plain": [
       "array([[2.7295970e-05],\n",
       "       [8.7373185e-01],\n",
       "       [1.1476276e-06],\n",
       "       [9.9997568e-01],\n",
       "       [9.9490523e-01],\n",
       "       [2.8164588e-06],\n",
       "       [2.9260066e-06],\n",
       "       [1.0000000e+00]], dtype=float32)"
      ]
     },
     "execution_count": 239,
     "metadata": {},
     "output_type": "execute_result"
    }
   ],
   "source": [
    "# Make predictions with reloaded model\n",
    "siamese_model.predict([test_input, test_val])"
   ]
  },
  {
   "cell_type": "code",
   "execution_count": 240,
   "metadata": {},
   "outputs": [
    {
     "name": "stdout",
     "output_type": "stream",
     "text": [
      "Model: \"SiameseNetwork\"\n",
      "__________________________________________________________________________________________________\n",
      "Layer (type)                    Output Shape         Param #     Connected to                     \n",
      "==================================================================================================\n",
      "input_img (InputLayer)          [(None, 100, 100, 3) 0                                            \n",
      "__________________________________________________________________________________________________\n",
      "validation_img (InputLayer)     [(None, 100, 100, 3) 0                                            \n",
      "__________________________________________________________________________________________________\n",
      "embedding (Functional)          (None, 4096)         38960448    input_img[0][0]                  \n",
      "                                                                 validation_img[0][0]             \n",
      "__________________________________________________________________________________________________\n",
      "l1_dist_6 (L1Dist)              (None, 4096)         0           embedding[0][0]                  \n",
      "                                                                 embedding[1][0]                  \n",
      "__________________________________________________________________________________________________\n",
      "dense_7 (Dense)                 (None, 1)            4097        l1_dist_6[0][0]                  \n",
      "==================================================================================================\n",
      "Total params: 38,964,545\n",
      "Trainable params: 38,964,545\n",
      "Non-trainable params: 0\n",
      "__________________________________________________________________________________________________\n"
     ]
    }
   ],
   "source": [
    "# View model summary\n",
    "siamese_model.summary()"
   ]
  },
  {
   "cell_type": "markdown",
   "metadata": {},
   "source": [
    "# 8. Real Time Test"
   ]
  },
  {
   "cell_type": "markdown",
   "metadata": {},
   "source": [
    "## 8.1 Verification Function"
   ]
  },
  {
   "cell_type": "code",
   "execution_count": null,
   "metadata": {},
   "outputs": [],
   "source": [
    "application_data\\verification_images"
   ]
  },
  {
   "cell_type": "code",
   "execution_count": null,
   "metadata": {},
   "outputs": [],
   "source": [
    "os.listdir(os.path.join('application_data', 'verification_images'))"
   ]
  },
  {
   "cell_type": "code",
   "execution_count": null,
   "metadata": {},
   "outputs": [],
   "source": [
    "os.path.join('application_data', 'input_image', 'input_image.jpg')"
   ]
  },
  {
   "cell_type": "code",
   "execution_count": null,
   "metadata": {},
   "outputs": [],
   "source": [
    "for image in os.listdir(os.path.join('application_data', 'verification_images')):\n",
    "    validation_img = os.path.join('application_data', 'verification_images', image)\n",
    "    print(validation_img)"
   ]
  },
  {
   "cell_type": "code",
   "execution_count": 7,
   "metadata": {},
   "outputs": [],
   "source": [
    "def verify(model, detection_threshold, verification_threshold):\n",
    "    # Build results array\n",
    "    results = []\n",
    "    for image in os.listdir(os.path.join('application_data', 'verification_images')):\n",
    "        input_img = preprocess(os.path.join('application_data', 'input_image', 'input_image.jpg'))\n",
    "        validation_img = preprocess(os.path.join('application_data', 'verification_images', image))\n",
    "        \n",
    "        # Make Predictions \n",
    "        result = model.predict(list(np.expand_dims([input_img, validation_img], axis=1)))\n",
    "        results.append(result)\n",
    "    \n",
    "    # Detection Threshold: Metric above which a prediciton is considered positive \n",
    "    detection = np.sum(np.array(results) > detection_threshold)\n",
    "    \n",
    "    # Verification Threshold: Proportion of positive predictions / total positive samples \n",
    "    verification = detection / len(os.listdir(os.path.join('application_data', 'verification_images'))) \n",
    "    verified = verification > verification_threshold\n",
    "    \n",
    "    return results, verified"
   ]
  },
  {
   "cell_type": "markdown",
   "metadata": {},
   "source": [
    "## 8.2 OpenCV Real Time Verification"
   ]
  },
  {
   "cell_type": "code",
   "execution_count": 16,
   "metadata": {},
   "outputs": [
    {
     "name": "stdout",
     "output_type": "stream",
     "text": [
      "True\n"
     ]
    }
   ],
   "source": [
    "cap = cv2.VideoCapture(4)\n",
    "while cap.isOpened():\n",
    "    ret, frame = cap.read()\n",
    "    frame = frame[120:120+250,200:200+250, :]\n",
    "    \n",
    "    cv2.imshow('Verification', frame)\n",
    "    \n",
    "    # Verification trigger\n",
    "    if cv2.waitKey(10) & 0xFF == ord('v'):\n",
    "        # Save input image to application_data/input_image folder \n",
    "#         hsv = cv2.cvtColor(frame, cv2.COLOR_BGR2HSV)\n",
    "#         h, s, v = cv2.split(hsv)\n",
    "\n",
    "#         lim = 255 - 10\n",
    "#         v[v > lim] = 255\n",
    "#         v[v <= lim] -= 10\n",
    "        \n",
    "#         final_hsv = cv2.merge((h, s, v))\n",
    "#         img = cv2.cvtColor(final_hsv, cv2.COLOR_HSV2BGR)\n",
    "\n",
    "        cv2.imwrite(os.path.join('application_data', 'input_image', 'input_image.jpg'), frame)\n",
    "        # Run verification\n",
    "        results, verified = verify(siamese_model, 0.5, 0.5)\n",
    "        print(verified)\n",
    "    \n",
    "    if cv2.waitKey(10) & 0xFF == ord('q'):\n",
    "        break\n",
    "cap.release()\n",
    "cv2.destroyAllWindows()"
   ]
  },
  {
   "cell_type": "code",
   "execution_count": 17,
   "metadata": {},
   "outputs": [
    {
     "data": {
      "text/plain": [
       "36"
      ]
     },
     "execution_count": 17,
     "metadata": {},
     "output_type": "execute_result"
    }
   ],
   "source": [
    "np.sum(np.squeeze(results) > 0.9)"
   ]
  },
  {
   "cell_type": "code",
   "execution_count": 18,
   "metadata": {},
   "outputs": [
    {
     "data": {
      "text/plain": [
       "[array([[0.9944859]], dtype=float32),\n",
       " array([[0.9999912]], dtype=float32),\n",
       " array([[0.9999943]], dtype=float32),\n",
       " array([[0.9999951]], dtype=float32),\n",
       " array([[0.99993753]], dtype=float32),\n",
       " array([[0.9082498]], dtype=float32),\n",
       " array([[0.9999846]], dtype=float32),\n",
       " array([[0.9834683]], dtype=float32),\n",
       " array([[0.87159216]], dtype=float32),\n",
       " array([[0.7328309]], dtype=float32),\n",
       " array([[0.74533516]], dtype=float32),\n",
       " array([[0.949607]], dtype=float32),\n",
       " array([[0.7501703]], dtype=float32),\n",
       " array([[0.60669833]], dtype=float32),\n",
       " array([[0.93921214]], dtype=float32),\n",
       " array([[0.9813106]], dtype=float32),\n",
       " array([[0.9848625]], dtype=float32),\n",
       " array([[0.89696234]], dtype=float32),\n",
       " array([[0.98896575]], dtype=float32),\n",
       " array([[0.99082947]], dtype=float32),\n",
       " array([[0.7747197]], dtype=float32),\n",
       " array([[0.99999297]], dtype=float32),\n",
       " array([[0.99986887]], dtype=float32),\n",
       " array([[0.9999764]], dtype=float32),\n",
       " array([[0.90808266]], dtype=float32),\n",
       " array([[0.8795649]], dtype=float32),\n",
       " array([[0.9634782]], dtype=float32),\n",
       " array([[0.9790052]], dtype=float32),\n",
       " array([[0.98665583]], dtype=float32),\n",
       " array([[0.98852533]], dtype=float32),\n",
       " array([[0.9995832]], dtype=float32),\n",
       " array([[1.]], dtype=float32),\n",
       " array([[0.9905027]], dtype=float32),\n",
       " array([[0.99841905]], dtype=float32),\n",
       " array([[0.96080494]], dtype=float32),\n",
       " array([[0.8443497]], dtype=float32),\n",
       " array([[0.9721696]], dtype=float32),\n",
       " array([[0.80732024]], dtype=float32),\n",
       " array([[0.79700935]], dtype=float32),\n",
       " array([[0.94146115]], dtype=float32),\n",
       " array([[0.9694269]], dtype=float32),\n",
       " array([[0.902836]], dtype=float32),\n",
       " array([[0.9999974]], dtype=float32),\n",
       " array([[0.9999436]], dtype=float32),\n",
       " array([[0.83173716]], dtype=float32),\n",
       " array([[0.9837488]], dtype=float32),\n",
       " array([[0.9999938]], dtype=float32),\n",
       " array([[0.9960765]], dtype=float32),\n",
       " array([[0.8436094]], dtype=float32),\n",
       " array([[0.78270465]], dtype=float32)]"
      ]
     },
     "execution_count": 18,
     "metadata": {},
     "output_type": "execute_result"
    }
   ],
   "source": [
    "results"
   ]
  },
  {
   "cell_type": "code",
   "execution_count": null,
   "metadata": {},
   "outputs": [],
   "source": []
  }
 ],
 "metadata": {
  "kernelspec": {
   "display_name": "myenv",
   "language": "python",
   "name": "myenv"
  },
  "language_info": {
   "codemirror_mode": {
    "name": "ipython",
    "version": 3
   },
   "file_extension": ".py",
   "mimetype": "text/x-python",
   "name": "python",
   "nbconvert_exporter": "python",
   "pygments_lexer": "ipython3",
   "version": "3.7.13"
  }
 },
 "nbformat": 4,
 "nbformat_minor": 4
}
